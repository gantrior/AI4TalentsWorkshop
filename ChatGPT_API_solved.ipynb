{
  "cells": [
    {
      "cell_type": "markdown",
      "metadata": {
        "id": "qXmRbGoRbf--"
      },
      "source": [
        "# ChatGPT API pro vývojáře\n",
        "## Úvod do OpenAI GPT-3.5\n",
        "Vítejte ve workshopu \"ChatGPT API pro vývojáře\"! Dnes se společně podíváme na fascinující svět umělé inteligence (UI) prostřednictvím API OpenAI GPT-3.5. Nejprve si vysvětlíme, co jsou OpenAI a GPT-3.5, a pak se ponoříme do základního pochopení zpracování přirozeného jazyka (NLP).\n",
        "\n",
        "### Co je OpenAI?\n",
        "OpenAI je organizace zaměřená na výzkum a vývoj umělé inteligence. Jejich cílem je zajistit, aby byla umělá obecná inteligence (AGI) - vysoce autonomní systémy, které překonávají lidi ve většině ekonomicky cenných prací - bezpečná a přínosná pro celou lidskou společnost. OpenAI vytváří špičkové modely AI, jako je GPT-3.5, které jsou dostupné vývojářům prostřednictvím jejich API.\n",
        "\n",
        "### Co je GPT-3.5?\n",
        "GPT-3.5, nebo Generative Pre-trained Transformer 3.5, je vylepšenou verzí předchozího modelu GPT-3 od OpenAI. Stejně jako jeho předchůdce je schopen generovat text, který je často nerozeznatelný od toho, který by napsal člověk, ale s vylepšenou přesností a schopností zpracování. GPT-3.5 může být využit k řadě úloh, jako je překlad jazyků, odpovídání na otázky, generování kreativního psaní a mnoho dalších.\n",
        "\n",
        "### Co je zpracování přirozeného jazyka (NLP)?\n",
        "Zpracování přirozeného jazyka je odvětvím informatiky a umělé inteligence, které se zaměřuje na interakci mezi počítači a lidským (přirozeným) jazykem. NLP umožňuje počítačům číst, rozumět a generovat lidský jazyk ve formě, která je hodnotná. Technologie NLP je základem všech systémů, které pracují s lidským jazykem, jako jsou osobní asistenti (např. Siri a Alexa), chatboti a automatické překladové služby.\n",
        "\n",
        "V následující části workshopu si nastavíme prostředí, abychom mohli začít pracovat s API OpenAI GPT-3.5.\n",
        "\n",
        "## Nastavení prostředí\n",
        "V této části workshopu si připravíme prostředí, abychom mohli začít pracovat s API OpenAI GPT-3.5. Nejdříve si nainstalujeme potřebné knihovny, poté nastavíme přístupové údaje pro API OpenAI a nakonec se seznámíme s Jupyter Notebookem.\n",
        "\n",
        "### Instalace potřebných knihoven\n",
        "Pro interakci s API OpenAI budeme potřebovat knihovnu openai. Můžete ji nainstalovat pomocí následujícího příkazu v Jupyter Notebooku:"
      ]
    },
    {
      "cell_type": "code",
      "execution_count": 10,
      "metadata": {
        "colab": {
          "base_uri": "https://localhost:8080/"
        },
        "id": "M6Lg8_I3bXeC",
        "outputId": "cc8430c2-9edf-4f77-cae8-d137d4f89c93"
      },
      "outputs": [
        {
          "name": "stdout",
          "output_type": "stream",
          "text": [
            "Requirement already satisfied: openai in /usr/local/lib/python3.10/dist-packages (0.28.1)\n",
            "Requirement already satisfied: requests>=2.20 in /usr/local/lib/python3.10/dist-packages (from openai) (2.31.0)\n",
            "Requirement already satisfied: tqdm in /usr/local/lib/python3.10/dist-packages (from openai) (4.66.1)\n",
            "Requirement already satisfied: aiohttp in /usr/local/lib/python3.10/dist-packages (from openai) (3.8.5)\n",
            "Requirement already satisfied: charset-normalizer<4,>=2 in /usr/local/lib/python3.10/dist-packages (from requests>=2.20->openai) (3.3.0)\n",
            "Requirement already satisfied: idna<4,>=2.5 in /usr/local/lib/python3.10/dist-packages (from requests>=2.20->openai) (3.4)\n",
            "Requirement already satisfied: urllib3<3,>=1.21.1 in /usr/local/lib/python3.10/dist-packages (from requests>=2.20->openai) (2.0.6)\n",
            "Requirement already satisfied: certifi>=2017.4.17 in /usr/local/lib/python3.10/dist-packages (from requests>=2.20->openai) (2023.7.22)\n",
            "Requirement already satisfied: attrs>=17.3.0 in /usr/local/lib/python3.10/dist-packages (from aiohttp->openai) (23.1.0)\n",
            "Requirement already satisfied: multidict<7.0,>=4.5 in /usr/local/lib/python3.10/dist-packages (from aiohttp->openai) (6.0.4)\n",
            "Requirement already satisfied: async-timeout<5.0,>=4.0.0a3 in /usr/local/lib/python3.10/dist-packages (from aiohttp->openai) (4.0.3)\n",
            "Requirement already satisfied: yarl<2.0,>=1.0 in /usr/local/lib/python3.10/dist-packages (from aiohttp->openai) (1.9.2)\n",
            "Requirement already satisfied: frozenlist>=1.1.1 in /usr/local/lib/python3.10/dist-packages (from aiohttp->openai) (1.4.0)\n",
            "Requirement already satisfied: aiosignal>=1.1.2 in /usr/local/lib/python3.10/dist-packages (from aiohttp->openai) (1.3.1)\n"
          ]
        }
      ],
      "source": [
        "!pip install openai"
      ]
    },
    {
      "cell_type": "markdown",
      "metadata": {
        "id": "YpvZ6g-Adg1z"
      },
      "source": [
        "### Vytvoření API klíče\n",
        "Pro autentizaci vašich požadavků na API OpenAI budete potřebovat API klíč. Postupujte takto:\n",
        "\n",
        "* Přejděte na stránku https://platform.openai.com/account/api-keys.\n",
        "* Pokud nemáte účet OpenAI, vytvořte si jej.\n",
        "* Po přihlášení klikněte na tlačítko pro vytvoření nového API klíče.\n",
        "* Zadejte název pro svůj klíč a klikněte na \"Create new secret key\".\n",
        "\n",
        "Nikdy nesdílejte svůj API klíč s nikým jiným, jak je uvedeno na platformě OpenAI​.\n",
        "\n",
        "### Nastavení přístupových údajů pro API OpenAI\n",
        "Otevřete novou buňku v Jupyter Notebooku a zadejte následující kód, abyste nastavili svůj API klíč:"
      ]
    },
    {
      "cell_type": "code",
      "execution_count": 11,
      "metadata": {
        "id": "6XLPTvXaf20Q"
      },
      "outputs": [],
      "source": [
        "import openai\n",
        "\n",
        "# Nahraďte 'sk-abcdefgh1234567890' vaším API klíčem\n",
        "# openai.api_key = 'sk-abcdefgh1234567890'"
      ]
    },
    {
      "cell_type": "markdown",
      "metadata": {
        "id": "1Nr68Apnf-Xb"
      },
      "source": [
        "Nyní, když máte připravené prostředí, můžete začít s odesíláním vašich prvních požadavků na ChatGPT prostřednictvím API OpenAI GPT-3.5!"
      ]
    },
    {
      "cell_type": "markdown",
      "metadata": {
        "id": "yQhZVBj2rQyx"
      },
      "source": [
        "# Co je to Token?\n",
        "\n",
        "Token je jednotka textu, kterou model zpracovává. V kontextu OpenAI modelů, token může být znakem, slovem nebo složeným slovem, v závislosti na jazyce a specifickém textu.\n",
        "\n",
        "Kodování tokenů je proces, kdy je text rozdělen do jednotlivých tokenů, které model může zpracovat. OpenAI používá Byte-Pair-Encoding (BPE) algoritmus pro tokenizaci textu.\n",
        "\n",
        "Pro práci s tokeny OpenAI budete potřebovat knihovnu `tiktoken`.\n",
        "\n"
      ]
    },
    {
      "cell_type": "code",
      "execution_count": 12,
      "metadata": {
        "colab": {
          "base_uri": "https://localhost:8080/"
        },
        "id": "5_J0Xx7jse9m",
        "outputId": "42e8d7ff-8682-4faa-943d-a9952446de26"
      },
      "outputs": [
        {
          "name": "stdout",
          "output_type": "stream",
          "text": [
            "Requirement already satisfied: tiktoken in /usr/local/lib/python3.10/dist-packages (0.5.1)\n",
            "Requirement already satisfied: regex>=2022.1.18 in /usr/local/lib/python3.10/dist-packages (from tiktoken) (2023.6.3)\n",
            "Requirement already satisfied: requests>=2.26.0 in /usr/local/lib/python3.10/dist-packages (from tiktoken) (2.31.0)\n",
            "Requirement already satisfied: charset-normalizer<4,>=2 in /usr/local/lib/python3.10/dist-packages (from requests>=2.26.0->tiktoken) (3.3.0)\n",
            "Requirement already satisfied: idna<4,>=2.5 in /usr/local/lib/python3.10/dist-packages (from requests>=2.26.0->tiktoken) (3.4)\n",
            "Requirement already satisfied: urllib3<3,>=1.21.1 in /usr/local/lib/python3.10/dist-packages (from requests>=2.26.0->tiktoken) (2.0.6)\n",
            "Requirement already satisfied: certifi>=2017.4.17 in /usr/local/lib/python3.10/dist-packages (from requests>=2.26.0->tiktoken) (2023.7.22)\n"
          ]
        }
      ],
      "source": [
        "!pip install tiktoken"
      ]
    },
    {
      "cell_type": "markdown",
      "metadata": {
        "id": "e_D2uIPpshpI"
      },
      "source": [
        "Použijte knihovnu `tiktoken` k zakódování textu do tokenů."
      ]
    },
    {
      "cell_type": "code",
      "execution_count": 13,
      "metadata": {
        "colab": {
          "base_uri": "https://localhost:8080/"
        },
        "id": "CF5kDlmUsvNk",
        "outputId": "3378de94-4dc5-4ccb-bb60-ea1e5b8c9eee"
      },
      "outputs": [
        {
          "name": "stdout",
          "output_type": "stream",
          "text": [
            "[1199, 100228, 20195, 4864, 259, 29432, 71853, 4037, 450, 869, 266, 25, 758, 31, 49177, 46999, 5, 9, 368]\n",
            "b'Text'\n",
            "b' kter'\n",
            "b'\\xc3\\xbd'\n",
            "b' je'\n",
            "b' t'\n",
            "b'\\xc5\\x99'\n",
            "b'eba'\n",
            "b' token'\n",
            "b'iz'\n",
            "b'ov'\n",
            "b'at'\n",
            "b':'\n",
            "b' !'\n",
            "b'@'\n",
            "b'#$'\n",
            "b'%^'\n",
            "b'&'\n",
            "b'*'\n",
            "b'()'\n"
          ]
        }
      ],
      "source": [
        "import tiktoken\n",
        "\n",
        "tokenizer = tiktoken.encoding_for_model(\"gpt-3.5-turbo\")\n",
        "tokens = tokenizer.encode(\"Text který je třeba tokenizovat: !@#$%^&*()\")\n",
        "\n",
        "print(tokens)\n",
        "\n",
        "for token in tokens:\n",
        "  print(tokenizer.decode_single_token_bytes(token))\n"
      ]
    },
    {
      "cell_type": "markdown",
      "metadata": {
        "id": "n9WUgDj8-kyA"
      },
      "source": [
        "#Co stojí dotazy na OpenAI API\n",
        "Dotazy na OpenAI API nejsou zadarmo, ale nový uživatelé mají počáteční budget, který je dostatečný na prvotní experimentování. Opecně je cena za vstupní/výstupní tokeny.\n",
        "\n",
        "Model `gpt-3.5-turbo` který budeme dále používat je velmi cenově příznivý. Jeho cena je pro vstupní data `$0.0015/1000` Tokenů a výstupní data `$0.002/1000` Tokenů.\n",
        "\n",
        "Kompletní ceník je dostupný zde: https://openai.com/pricing"
      ]
    },
    {
      "cell_type": "markdown",
      "metadata": {
        "id": "EO6Q77A7gSIg"
      },
      "source": [
        "## Váš první požadavek na ChatGPT\n",
        "V této části uvidíme, jak odeslat základní požadavek na ChatGPT pomocí Pythonu a knihovny openai.\n",
        "\n",
        "### Odeslání základního požadavku\n",
        "Nejdříve importujeme knihovnu `openai`, kterou jsme nainstalovali dříve a výsledek zobrazíme."
      ]
    },
    {
      "cell_type": "code",
      "execution_count": 14,
      "metadata": {
        "id": "z-bZbApIghX_"
      },
      "outputs": [],
      "source": [
        "response = openai.ChatCompletion.create(\n",
        "    model=\"gpt-3.5-turbo\",\n",
        "    messages=[\n",
        "        {\"role\": \"system\", \"content\": \"Jsi můj asistent.\"},\n",
        "        {\"role\": \"user\", \"content\": \"Přelož následující text z čestiny do Francouzštiny: 'Ahoj, jak se máš?'\"},\n",
        "    ]\n",
        ")"
      ]
    },
    {
      "cell_type": "code",
      "execution_count": 15,
      "metadata": {
        "colab": {
          "base_uri": "https://localhost:8080/"
        },
        "id": "nGlIjB2Jolks",
        "outputId": "2fa37aa3-8f92-418d-c083-6077615291ab"
      },
      "outputs": [
        {
          "name": "stdout",
          "output_type": "stream",
          "text": [
            "Bonjour, comment ça va ?\n"
          ]
        }
      ],
      "source": [
        "# print(response)\n",
        "print(response['choices'][0]['message']['content'].strip())"
      ]
    },
    {
      "cell_type": "markdown",
      "metadata": {
        "id": "dPqvtkS-i-sI"
      },
      "source": [
        "Nyní byste měli vidět přeložený text ve francouzštině: 'Bonjour, comment ça va?'\n",
        "\n",
        "### Porozumění odpovědi\n",
        "* Požadavek na API vrací odpověď ve formátu JSON, který obsahuje několik užitečných informací.\n",
        "* Klíč `choices` obsahuje pole s odpověďmi. Každá odpověď obsahuje textový řetězec, který je výstupem modelu.\n",
        "* Používáme metodu strip() k odstranění přebytečných bílých znaků z výstupu.\n",
        "\n",
        "### Vysvětlení \"role\"\n",
        "Role sděluje modelu, jak by měl obsah zpracovat. Zde je popis rolí:\n",
        "* **user** - informuje model, že následující obsah pochází od uživatele – tj. od osoby, která položila otázku.\n",
        "* **asistent** - informuje model, že obsah byl vygenerován jako reakce na uživatele.\n",
        "* **systém** - zpráva specifikovaná vývojářem k \"nasměrování\" odpovědi modelu. V závislosti na použitém modelu může mít systémová zpráva větší či menší dopad na skutečné odpovědi modelu.\n",
        "\n",
        "### Práce s kontextem konverzace\n",
        "Při práci s ChatGPT je důležité rozumět, jak API zachází s kontextem konverzace. Pokud chcete, aby API mělo v kontextu předchozí odpovědi, musíte poslat celou historii konverzace. Tímto způsobem může model vidět celou konverzaci a odpovědět konzistentně s předchozími zprávami.\n"
      ]
    },
    {
      "cell_type": "code",
      "execution_count": 16,
      "metadata": {
        "colab": {
          "base_uri": "https://localhost:8080/"
        },
        "id": "UaBOYea1qk_1",
        "outputId": "cd599b66-e2e4-4118-ddab-3f5a38e08160"
      },
      "outputs": [
        {
          "name": "stdout",
          "output_type": "stream",
          "text": [
            "¡Hola, cómo estás?\n"
          ]
        }
      ],
      "source": [
        "# Příklad pokračování v konverzaci\n",
        "conversation_history = [\n",
        "    {\"role\": \"system\", \"content\": \"Jsi můj asistent.\"},\n",
        "    {\"role\": \"user\", \"content\": \"Přelož následující text z čestiny do Francouzštiny: 'Ahoj, jak se máš?'\"},\n",
        "    {\"role\": \"assistant\", \"content\": \"Bonjour, comment ça va ?\"},\n",
        "    {\"role\": \"user\", \"content\": \"Přelož to samé do španělštiny\"}\n",
        "]\n",
        "\n",
        "response = openai.ChatCompletion.create(\n",
        "    model=\"gpt-3.5-turbo\",\n",
        "    messages=conversation_history\n",
        ")\n",
        "\n",
        "print(response['choices'][0]['message']['content'].strip())"
      ]
    },
    {
      "cell_type": "markdown",
      "metadata": {
        "id": "Z9BqufpQqpYS"
      },
      "source": [
        "V tomto příkladu jsme odeslali čtyři zprávy jako součást požadavku na API: jednu zprávu systému, dvě zprávy uživatele a jednu zprávu asistenta. Poslední zpráva uživatele je nová otázka, na kterou chceme, aby asistent odpověděl. Protože jsme poslali celou historii konverzace, asistent může vidět předchozí otázky a odpovědi, a tak lépe odpovědět na novou otázku.\n",
        "\n",
        "To je vše, co potřebujete k odeslání svého prvního požadavku na ChatGPT a získání odpovědi. Můžete experimentovat s různými texty a pozorovat, jak ChatGPT reaguje."
      ]
    },
    {
      "cell_type": "markdown",
      "metadata": {
        "id": "sBbkvYNDr3-d"
      },
      "source": [
        "## Prozkoumejte API hlouběji\n",
        "V této části se ponoříme hlouběji do možností, které nabízí API OpenAI GPT-3.5. Prozkoumáme některé pokročilejší funkce a ukážeme, jak je lze použít ve vašich projektech.\n",
        "\n",
        "Pokročilé nastavení požadavku\n",
        "### Maximální délka odpovědi\n",
        "Omezte délku odpovědi nastavením parametru max_tokens. To je užitečné pro kontrolu délky výstupního textu."
      ]
    },
    {
      "cell_type": "code",
      "execution_count": 17,
      "metadata": {
        "colab": {
          "base_uri": "https://localhost:8080/"
        },
        "id": "G7NdlHsVsBP0",
        "outputId": "d7856947-4a08-4d82-b0a2-df2c162330e1"
      },
      "outputs": [
        {
          "name": "stdout",
          "output_type": "stream",
          "text": [
            "Byl jednou malý kluk, který nemohl usnout. Tak přišlo na pomoc kouzelné pavoučí pletivo. Když ho pověsil nad postel, obj\n"
          ]
        }
      ],
      "source": [
        "response = openai.ChatCompletion.create(\n",
        "    model=\"gpt-3.5-turbo\",\n",
        "    messages=[\n",
        "        {\"role\": \"system\", \"content\": \"Jsi můj asistent.\"},\n",
        "        {\"role\": \"user\", \"content\": \"Napiš krátkou pohádku na spaní pro mého syna (maximálně 50 slov).\"},\n",
        "    ],\n",
        "    max_tokens=50\n",
        ")\n",
        "print(response['choices'][0]['message']['content'].strip())"
      ]
    },
    {
      "cell_type": "markdown",
      "metadata": {
        "id": "JBVWQguesPKN"
      },
      "source": [
        "## \"Teplota\"\n",
        "Parametr `temperature` ovlivňuje kreativitu odpovědi. Nižší hodnota (např. 0.2) generuje konzistentnější, méně kreativní text, zatímco vyšší hodnota (např. 0.8) generuje více kreativní, ale méně předvídatelný text."
      ]
    },
    {
      "cell_type": "code",
      "execution_count": 18,
      "metadata": {
        "colab": {
          "base_uri": "https://localhost:8080/"
        },
        "id": "SS6YNp4LsYld",
        "outputId": "9b1091b5-555e-4265-9c29-4c55617fc03c"
      },
      "outputs": [
        {
          "name": "stdout",
          "output_type": "stream",
          "text": [
            "Byl jednou malý kluk, který se nemohl v noci dobře uklidnit. Jednoho večera mu maminka přišla s kouzelným příběhem. \"Když zavřeš oči, zazní jemné šepotání vlnkami a hvězdy tě zahladí do snů. Usni, ať tě noční můry nepobíhají, zavři oči a dej šanci sladkým snům.\" Kluk se usmál, zavřel oči a rychle se ponořil do krásného spánku.\n"
          ]
        }
      ],
      "source": [
        "response = openai.ChatCompletion.create(\n",
        "    model=\"gpt-3.5-turbo\",\n",
        "    messages=[\n",
        "        {\"role\": \"system\", \"content\": \"Jsi můj asistent.\"},\n",
        "        {\"role\": \"user\", \"content\": \"Napiš krátkou pohádku na spaní pro mého syna (maximálně 50 slov).\"},\n",
        "    ],\n",
        "    temperature=1\n",
        ")\n",
        "print(response['choices'][0]['message']['content'].strip())"
      ]
    },
    {
      "cell_type": "markdown",
      "metadata": {
        "id": "OlUk49Fqs6nG"
      },
      "source": [
        "### Další parametry\n",
        "Další parametry můžete prozkoumat v dokumentaci: https://platform.openai.com/docs/api-reference/chat/create"
      ]
    },
    {
      "cell_type": "code",
      "execution_count": 19,
      "metadata": {
        "colab": {
          "base_uri": "https://localhost:8080/"
        },
        "id": "4VMQNvOVs_Es",
        "outputId": "6e8e4344-c62f-4f26-d7d0-e479cce0c243"
      },
      "outputs": [
        {
          "name": "stdout",
          "output_type": "stream",
          "text": [
            "[<OpenAIObject at 0x78c4d14deb10> JSON: {\n",
            "  \"index\": 0,\n",
            "  \"message\": {\n",
            "    \"role\": \"assistant\",\n",
            "    \"content\": \"Bylo jednou jeden mal\\u00fd zaj\\u00ed\\u010dek, kter\\u00fd m\\u011bl probl\\u00e9m s us\\u00edn\\u00e1n\\u00edm. Ka\\u017edou noc sk\\u00e1kal po sv\\u00e9m pokoji a nemohl se dostat k sp\\u00e1nku. Jednoho ve\\u010dera mu maminka \\u0159ekla: \\\"Zkuste si p\\u0159edstavit barevn\\u00e9 obl\\u00e1\\u010dky a po\\u010d\\u00edtat ovce.\\\" Zaj\\u00ed\\u010dek to vyzkou\\u0161el, n\\u011b\\u017en\\u011b polo\\u017eil hlavu na pol\\u0161t\\u00e1\\u0159 a zav\\u0159el o\\u010di. A najednou usnul. Od t\\u00e9 doby ka\\u017ed\\u00fd ve\\u010der us\\u00ednal s \\u00fasm\\u011bvem.\"\n",
            "  },\n",
            "  \"finish_reason\": \"stop\"\n",
            "}, <OpenAIObject at 0x78c4d14de890> JSON: {\n",
            "  \"index\": 1,\n",
            "  \"message\": {\n",
            "    \"role\": \"assistant\",\n",
            "    \"content\": \"Byl jednou mal\\u00fd chlapec, kter\\u00fd se nemohl v noci usm\\u00ed\\u0159it se svoj\\u00ed postel\\u00ed. Jednoho ve\\u010dera se vydal na dobrodru\\u017estv\\u00ed a na\\u0161el magickou podu\\u0161ku. Kdy\\u017e na ni polo\\u017eil hlavu, p\\u0159enesl se do zem\\u011b sn\\u016f, kde ho \\u010dekaly pov\\u011bsti o drac\\u00edch a pokladech. Te\\u010f ka\\u017edou noc sn\\u00ed nej\\u00fa\\u017easn\\u011bj\\u0161\\u00ed sny, zat\\u00edmco jeho postel ho n\\u011b\\u017en\\u011b hlad\\u00ed.\"\n",
            "  },\n",
            "  \"finish_reason\": \"stop\"\n",
            "}]\n"
          ]
        }
      ],
      "source": [
        "response = openai.ChatCompletion.create(\n",
        "    model=\"gpt-3.5-turbo\",\n",
        "    messages=[\n",
        "        {\"role\": \"system\", \"content\": \"Jsi můj asistent.\"},\n",
        "        {\"role\": \"user\", \"content\": \"Napiš krátkou pohádku na spaní pro mého syna (maximálně 50 slov).\"},\n",
        "    ],\n",
        "    n=2\n",
        ")\n",
        "print(response['choices'])"
      ]
    },
    {
      "cell_type": "markdown",
      "metadata": {
        "id": "Zijruzboul4m"
      },
      "source": [
        "## Limitování tokenů v dotazech\n",
        "\n",
        "Vzhledem k tomu, že při volání OpenAI API se platí za tokeny a modely mívají předem definovaný počet tokenů se kterými dokáží naráz pracovat, tak je vhodné vědět jak je v dotazech na API limitovat."
      ]
    },
    {
      "cell_type": "code",
      "execution_count": 20,
      "metadata": {
        "colab": {
          "base_uri": "https://localhost:8080/"
        },
        "id": "iczPXXyAxxTY",
        "outputId": "06ef79a0-11e5-45ab-c395-4e99ec011961"
      },
      "outputs": [
        {
          "name": "stdout",
          "output_type": "stream",
          "text": [
            "5600\n"
          ]
        },
        {
          "data": {
            "text/plain": [
              "<OpenAIObject chat.completion id=chatcmpl-88qc17YAJIdTkruVZKhj9MoQkQh7K at 0x78c4f281c950> JSON: {\n",
              "  \"id\": \"chatcmpl-88qc17YAJIdTkruVZKhj9MoQkQh7K\",\n",
              "  \"object\": \"chat.completion\",\n",
              "  \"created\": 1697119557,\n",
              "  \"model\": \"gpt-3.5-turbo-0613\",\n",
              "  \"choices\": [\n",
              "    {\n",
              "      \"index\": 0,\n",
              "      \"message\": {\n",
              "        \"role\": \"assistant\",\n",
              "        \"content\": \"Omlouv\\u00e1m se, ale v\\u00e1\\u0161 dotaz je p\\u0159\\u00edli\\u0161 dlouh\\u00fd a nejsem schopen na n\\u011bj odpov\\u011bd\\u011bt. Mohli byste ho, pros\\u00edm, zkr\\u00e1tit nebo sd\\u011blit konkr\\u00e9tn\\u011bj\\u0161\\u00ed informace?\"\n",
              "      },\n",
              "      \"finish_reason\": \"stop\"\n",
              "    }\n",
              "  ],\n",
              "  \"usage\": {\n",
              "    \"prompt_tokens\": 3597,\n",
              "    \"completion_tokens\": 65,\n",
              "    \"total_tokens\": 3662\n",
              "  }\n",
              "}"
            ]
          },
          "execution_count": 20,
          "metadata": {},
          "output_type": "execute_result"
        }
      ],
      "source": [
        "import tiktoken\n",
        "\n",
        "def send_chatcompletion(\n",
        "    system_prompt=\"Jsi můj asistent\",\n",
        "    user_prompt=None,\n",
        "    chat_model=\"gpt-3.5-turbo\",\n",
        "    completions_token_limit=500,\n",
        "):\n",
        "    response = openai.ChatCompletion.create(\n",
        "        model=chat_model,\n",
        "        messages=[\n",
        "            {\"role\": \"system\", \"content\": system_prompt},\n",
        "            {\"role\": \"user\", \"content\": user_prompt},\n",
        "        ],\n",
        "        temperature=1,\n",
        "        max_tokens=completions_token_limit\n",
        "    )\n",
        "\n",
        "    return response\n",
        "\n",
        "def send(\n",
        "    system_prompt=\"Jsi můj asistent\",\n",
        "    user_prompt=None,\n",
        "    chat_model=\"gpt-3.5-turbo\",\n",
        "    model_token_limit=4097,\n",
        "    completions_token_limit=500,\n",
        "):\n",
        "    tokenizer = tiktoken.encoding_for_model(chat_model)\n",
        "    token_integers_system = tokenizer.encode(system_prompt)\n",
        "    token_integers_user = tokenizer.encode(user_prompt)\n",
        "\n",
        "    wrapped_content_token_count = 11 # magická hodnota která vyjádří konstatní navýšení za request. Je to odvozeno od množství zpráv a parametrů, které se v každém requestu posílají\n",
        "    user_token_limit = model_token_limit - len(token_integers_system) - wrapped_content_token_count - completions_token_limit\n",
        "\n",
        "    user_prompt_trimmed = tokenizer.decode(token_integers_user[0:user_token_limit])\n",
        "\n",
        "    return send_chatcompletion(\n",
        "        system_prompt=system_prompt,\n",
        "        user_prompt=user_prompt_trimmed,\n",
        "        chat_model=chat_model,\n",
        "        completions_token_limit=completions_token_limit,\n",
        "    )\n",
        "\n",
        "velmi_dlouhy_dotaz = \"Velmi dlouhy dotaz\" * 800\n",
        "\n",
        "tokenizer = tiktoken.encoding_for_model(\"gpt-3.5-turbo\")\n",
        "tokens = tokenizer.encode(velmi_dlouhy_dotaz)\n",
        "print(len(tokens))\n",
        "\n",
        "# send_chatcompletion(user_prompt=velmi_dlouhy_dotaz)\n",
        "send(user_prompt=velmi_dlouhy_dotaz)"
      ]
    },
    {
      "cell_type": "markdown",
      "metadata": {
        "id": "ijjd_ln3ZOEO"
      },
      "source": [
        "# Ukázkový projekt: Automatická Čtečka RSS\n",
        "V tomto projektu si vytvoříte automatizovanou čtečku RSS, která vám umožní sledovat témata, která vás zajímají, pomocí personalizovaných filtrů. Tato čtečka bude načítat články z RSS feedu, analyzovat je a doporučovat vám články na základě vašich zájmů.\n",
        "\n",
        "## Příprava\n",
        "Nejdříve budete potřebovat knihovnu feedparser pro načítání RSS feedů a tiktoken pro práci s tokeny.\n"
      ]
    },
    {
      "cell_type": "code",
      "execution_count": 21,
      "metadata": {
        "colab": {
          "base_uri": "https://localhost:8080/"
        },
        "id": "kAzo5UvWco0n",
        "outputId": "71740ef0-ceed-4f25-80fc-d5747bc64fc2"
      },
      "outputs": [
        {
          "name": "stdout",
          "output_type": "stream",
          "text": [
            "Collecting feedparser\n",
            "  Downloading feedparser-6.0.10-py3-none-any.whl (81 kB)\n",
            "\u001b[?25l     \u001b[90m━━━━━━━━━━━━━━━━━━━━━━━━━━━━━━━━━━━━━━━━\u001b[0m \u001b[32m0.0/81.1 kB\u001b[0m \u001b[31m?\u001b[0m eta \u001b[36m-:--:--\u001b[0m\r\u001b[2K     \u001b[90m━━━━━━━━━━━━━━━━━━━━━━━━━━━━━━━━━━━━━━━━\u001b[0m \u001b[32m81.1/81.1 kB\u001b[0m \u001b[31m2.5 MB/s\u001b[0m eta \u001b[36m0:00:00\u001b[0m\n",
            "\u001b[?25hRequirement already satisfied: tiktoken in /usr/local/lib/python3.10/dist-packages (0.5.1)\n",
            "Collecting sgmllib3k (from feedparser)\n",
            "  Downloading sgmllib3k-1.0.0.tar.gz (5.8 kB)\n",
            "  Preparing metadata (setup.py) ... \u001b[?25l\u001b[?25hdone\n",
            "Requirement already satisfied: regex>=2022.1.18 in /usr/local/lib/python3.10/dist-packages (from tiktoken) (2023.6.3)\n",
            "Requirement already satisfied: requests>=2.26.0 in /usr/local/lib/python3.10/dist-packages (from tiktoken) (2.31.0)\n",
            "Requirement already satisfied: charset-normalizer<4,>=2 in /usr/local/lib/python3.10/dist-packages (from requests>=2.26.0->tiktoken) (3.3.0)\n",
            "Requirement already satisfied: idna<4,>=2.5 in /usr/local/lib/python3.10/dist-packages (from requests>=2.26.0->tiktoken) (3.4)\n",
            "Requirement already satisfied: urllib3<3,>=1.21.1 in /usr/local/lib/python3.10/dist-packages (from requests>=2.26.0->tiktoken) (2.0.6)\n",
            "Requirement already satisfied: certifi>=2017.4.17 in /usr/local/lib/python3.10/dist-packages (from requests>=2.26.0->tiktoken) (2023.7.22)\n",
            "Building wheels for collected packages: sgmllib3k\n",
            "  Building wheel for sgmllib3k (setup.py) ... \u001b[?25l\u001b[?25hdone\n",
            "  Created wheel for sgmllib3k: filename=sgmllib3k-1.0.0-py3-none-any.whl size=6047 sha256=224196467fd03214292da16a8311283cadc7d02509f48ba0d924e6b245d98882\n",
            "  Stored in directory: /root/.cache/pip/wheels/f0/69/93/a47e9d621be168e9e33c7ce60524393c0b92ae83cf6c6e89c5\n",
            "Successfully built sgmllib3k\n",
            "Installing collected packages: sgmllib3k, feedparser\n",
            "Successfully installed feedparser-6.0.10 sgmllib3k-1.0.0\n"
          ]
        }
      ],
      "source": [
        "!pip install feedparser tiktoken"
      ]
    },
    {
      "cell_type": "markdown",
      "metadata": {
        "id": "1z4WfY2icvEu"
      },
      "source": [
        "## Načtení RSS Feedu\n",
        "Použijte knihovnu feedparser k načtení RSS feedu z vybraného zdroje."
      ]
    },
    {
      "cell_type": "code",
      "execution_count": 22,
      "metadata": {
        "colab": {
          "base_uri": "https://localhost:8080/"
        },
        "id": "MmClx3mfc0iF",
        "outputId": "fa82048d-d5d8-4896-ab25-34b14f557769"
      },
      "outputs": [
        {
          "name": "stdout",
          "output_type": "stream",
          "text": [
            "{'bozo': False, 'entries': [{'title': 'KVÍZ: Umíte využít počítačové rozhraní na maximum?', 'title_detail': {'type': 'text/plain', 'language': None, 'base': 'https://servis.idnes.cz/rss.aspx?c=technet', 'value': 'KVÍZ: Umíte využít počítačové rozhraní na maximum?'}, 'links': [{'rel': 'alternate', 'type': 'text/html', 'href': 'https://www.idnes.cz/technet/pc-mac/kviz-usb-firewire-thunderbolt-lightning.A231011_130802_hardware_vse#utm_source=rss&utm_medium=feed&utm_campaign=technet&utm_content=main'}], 'link': 'https://www.idnes.cz/technet/pc-mac/kviz-usb-firewire-thunderbolt-lightning.A231011_130802_hardware_vse#utm_source=rss&utm_medium=feed&utm_campaign=technet&utm_content=main', 'summary': 'Není to tak dávno, co skupina zajišťující vývoj USB představila nové značení, a navíc se objevila i oficiálně zveřejněná specifika nové verze konkurenčního rozhraní od Intelu. V našem kvízu se můžete dozvědět, jak dobře se v různých digitálních rozhraních vyznáte.', 'summary_detail': {'type': 'text/html', 'language': None, 'base': 'https://servis.idnes.cz/rss.aspx?c=technet', 'value': 'Není to tak dávno, co skupina zajišťující vývoj USB představila nové značení, a navíc se objevila i oficiálně zveřejněná specifika nové verze konkurenčního rozhraní od Intelu. V našem kvízu se můžete dozvědět, jak dobře se v různých digitálních rozhraních vyznáte.'}, 'published': 'Wed, 11 Oct 2023 22:00:00 GMT', 'published_parsed': time.struct_time(tm_year=2023, tm_mon=10, tm_mday=11, tm_hour=22, tm_min=0, tm_sec=0, tm_wday=2, tm_yday=284, tm_isdst=0), 'tags': [{'term': 'Technet - PC & Mac', 'scheme': 'https://technet.idnes.cz/hardware.aspx', 'label': None}], 'comments': 'https://www.idnes.cz/technet/pc-mac/kviz-usb-firewire-thunderbolt-lightning.A231011_130802_hardware_vse/diskuse', 'id': 'A231011_130802_hardware_vse', 'guidislink': False, 'media_content': [{'url': 'https://1gr.cz/fotky/idnes/22/092/cl6/DVR960f22_usb_gae3c68a73_1920.jpg', 'type': 'image/jpeg'}], 'content': [{'type': 'text/plain', 'language': None, 'base': 'https://servis.idnes.cz/rss.aspx?c=technet', 'value': 'Ilustrační foto - kabel s USB-C portem'}], 'media_credit': [{'content': 'Image by Denys Vitali from Pixabay Creative Commons'}], 'credit': 'Image by Denys Vitali from Pixabay Creative Commons'}, {'title': 'První vzdušná vítězství izraelského letectva vybojovala československá stíhačka', 'title_detail': {'type': 'text/plain', 'language': None, 'base': 'https://servis.idnes.cz/rss.aspx?c=technet', 'value': 'První vzdušná vítězství izraelského letectva vybojovala československá stíhačka'}, 'links': [{'rel': 'alternate', 'type': 'text/html', 'href': 'https://www.idnes.cz/technet/vojenstvi/avia-s-199-izraelske-letectvo-prvni-sestrel-modi-alon.A231009_145859_vojenstvi_erp#utm_source=rss&utm_medium=feed&utm_campaign=technet&utm_content=main'}], 'link': 'https://www.idnes.cz/technet/vojenstvi/avia-s-199-izraelske-letectvo-prvni-sestrel-modi-alon.A231009_145859_vojenstvi_erp#utm_source=rss&utm_medium=feed&utm_campaign=technet&utm_content=main', 'summary': 'Izraelské letectvo patří mezi nejlepší vzdušné síly našeho světa. Velkou měrou zajistilo životaschopnost Izraele, který čelí nepřátelským sousedům. Vedle toho se může pyšnit bohatým kontem vzdušných vítězství. První sestřely vybojoval pro izraelské letectvo Modi Alon na československé stíhačce Avia S-199, když chránil Tel Aviv proti náletům Egypťanů.', 'summary_detail': {'type': 'text/html', 'language': None, 'base': 'https://servis.idnes.cz/rss.aspx?c=technet', 'value': 'Izraelské letectvo patří mezi nejlepší vzdušné síly našeho světa. Velkou měrou zajistilo životaschopnost Izraele, který čelí nepřátelským sousedům. Vedle toho se může pyšnit bohatým kontem vzdušných vítězství. První sestřely vybojoval pro izraelské letectvo Modi Alon na československé stíhačce Avia S-199, když chránil Tel Aviv proti náletům Egypťanů.'}, 'published': 'Wed, 11 Oct 2023 22:00:00 GMT', 'published_parsed': time.struct_time(tm_year=2023, tm_mon=10, tm_mday=11, tm_hour=22, tm_min=0, tm_sec=0, tm_wday=2, tm_yday=284, tm_isdst=0), 'tags': [{'term': 'Technet - Vojenství', 'scheme': 'https://technet.idnes.cz/vojenstvi.aspx', 'label': None}], 'comments': 'https://www.idnes.cz/technet/vojenstvi/avia-s-199-izraelske-letectvo-prvni-sestrel-modi-alon.A231009_145859_vojenstvi_erp/diskuse', 'id': 'A231009_145859_vojenstvi_erp', 'guidislink': False, 'media_content': [{'url': 'https://1gr.cz/fotky/idnes/23/102/cl6/ERP5a64528275_3lsti_piloti_Avia_S_199.jpg', 'type': 'image/jpeg'}], 'content': [{'type': 'text/plain', 'language': None, 'base': 'https://servis.idnes.cz/rss.aspx?c=technet', 'value': 'Louis „Lou“ Lenart, Gideon \"Giddy\" Lichtman a Mordechai \"Modi\" Alon u stíhačky Avia S-199 v roce 1948'}], 'media_credit': [{'content': 'Israeli Air Force'}], 'credit': 'Israeli Air Force'}, {'title': 'Nejstarší letecký závod světa má vítěze. Vyhráli francouzští vzduchoplavci', 'title_detail': {'type': 'text/plain', 'language': None, 'base': 'https://servis.idnes.cz/rss.aspx?c=technet', 'value': 'Nejstarší letecký závod světa má vítěze. Vyhráli francouzští vzduchoplavci'}, 'links': [{'rel': 'alternate', 'type': 'text/html', 'href': 'https://www.idnes.cz/technet/technika/gordon-bennett-plynovy-balon-zavod.A231011_203904_tec_technika_alv#utm_source=rss&utm_medium=feed&utm_campaign=technet&utm_content=main'}], 'link': 'https://www.idnes.cz/technet/technika/gordon-bennett-plynovy-balon-zavod.A231011_203904_tec_technika_alv#utm_source=rss&utm_medium=feed&utm_campaign=technet&utm_content=main', 'summary': 'Tři dny, 16 hodin a 46 minut strávili v balonovém koši francouzští piloti Eric Decellieres a Benoit Havret. Po 19 hodin dlouhé „cílové rovince“ s německou posádkou v zádech přistáli u města Jacksonville v Severní Karolíně. Od místa startu v Albuquerque v Novém Mexiku je na přistání dělila vzdálenost 2 661,4 km vzdušnou čarou.', 'summary_detail': {'type': 'text/html', 'language': None, 'base': 'https://servis.idnes.cz/rss.aspx?c=technet', 'value': 'Tři dny, 16 hodin a 46 minut strávili v balonovém koši francouzští piloti Eric Decellieres a Benoit Havret. Po 19 hodin dlouhé „cílové rovince“ s německou posádkou v zádech přistáli u města Jacksonville v Severní Karolíně. Od místa startu v Albuquerque v Novém Mexiku je na přistání dělila vzdálenost 2 661,4 km vzdušnou čarou.'}, 'published': 'Wed, 11 Oct 2023 19:52:00 GMT', 'published_parsed': time.struct_time(tm_year=2023, tm_mon=10, tm_mday=11, tm_hour=19, tm_min=52, tm_sec=0, tm_wday=2, tm_yday=284, tm_isdst=0), 'tags': [{'term': 'Technet - Technika', 'scheme': 'https://technet.idnes.cz/tec_technika.aspx', 'label': None}], 'comments': 'https://www.idnes.cz/technet/technika/gordon-bennett-plynovy-balon-zavod.A231011_203904_tec_technika_alv/diskuse', 'id': 'A231011_203904_tec_technika_alv', 'guidislink': False, 'media_content': [{'url': 'https://1gr.cz/fotky/idnes/23/102/cl6/ALVb36c5062d2_gb2023mapa.jpg', 'type': 'image/jpeg'}], 'content': [{'type': 'text/plain', 'language': None, 'base': 'https://servis.idnes.cz/rss.aspx?c=technet', 'value': 'Finální mapa Poháru Gordona Bennetta 2023'}], 'media_credit': [{'content': 'Gordon Bennett Cup 2023'}], 'credit': 'Gordon Bennett Cup 2023'}, {'title': 'Jako černé uhlí s hojným obsahem vody. NASA odhalila vzorky z planetky Bennu', 'title_detail': {'type': 'text/plain', 'language': None, 'base': 'https://servis.idnes.cz/rss.aspx?c=technet', 'value': 'Jako černé uhlí s hojným obsahem vody. NASA odhalila vzorky z planetky Bennu'}, 'links': [{'rel': 'alternate', 'type': 'text/html', 'href': 'https://www.idnes.cz/technet/vesmir/nasa-sonda-planetka-bennu-vzorek-vesmir-hornina.A231011_182754_domaci_kurl#utm_source=rss&utm_medium=feed&utm_campaign=technet&utm_content=main'}], 'link': 'https://www.idnes.cz/technet/vesmir/nasa-sonda-planetka-bennu-vzorek-vesmir-hornina.A231011_182754_domaci_kurl#utm_source=rss&utm_medium=feed&utm_campaign=technet&utm_content=main', 'summary': 'Šéf amerického Národního úřadu pro letectví a vesmír (NASA) Bill Nelson ve středu odhalil vzorky hornin, které sonda OSIRIS-REx dopravila na Zemi z planetky Bennu vzdálené 1,9 miliardy kilometrů. Jde o zhruba 250 gramů materiálu, který vzhledem připomíná černé uhlí o velikostech od drobných kamínků až po jemný černý prach.', 'summary_detail': {'type': 'text/html', 'language': None, 'base': 'https://servis.idnes.cz/rss.aspx?c=technet', 'value': 'Šéf amerického Národního úřadu pro letectví a vesmír (NASA) Bill Nelson ve středu odhalil vzorky hornin, které sonda OSIRIS-REx dopravila na Zemi z planetky Bennu vzdálené 1,9 miliardy kilometrů. Jde o zhruba 250 gramů materiálu, který vzhledem připomíná černé uhlí o velikostech od drobných kamínků až po jemný černý prach.'}, 'published': 'Wed, 11 Oct 2023 18:56:47 GMT', 'published_parsed': time.struct_time(tm_year=2023, tm_mon=10, tm_mday=11, tm_hour=18, tm_min=56, tm_sec=47, tm_wday=2, tm_yday=284, tm_isdst=0), 'tags': [{'term': 'Technet - Vesmír', 'scheme': 'https://technet.idnes.cz/tec_vesmir.aspx', 'label': None}], 'comments': 'https://www.idnes.cz/technet/vesmir/nasa-sonda-planetka-bennu-vzorek-vesmir-hornina.A231011_182754_domaci_kurl/diskuse', 'id': 'A231011_182754_domaci_kurl', 'guidislink': False, 'media_content': [{'url': 'https://1gr.cz/fotky/idnes/23/102/cl6/KURa10327ee73_348e4502820651e23533de53.jpg', 'type': 'image/jpeg'}, {'url': 'https://1gr.cz/fotky/idnes/23/102/cl6/KURa1c5862190_0eb42a88572ca25e1f721bb.jpg', 'type': 'image/jpeg'}, {'url': 'https://1gr.cz/fotky/idnes/19/023/cl6/VSE7985e3_P201902210217901.jpg', 'type': 'image/jpeg'}], 'content': [{'type': 'text/plain', 'language': None, 'base': 'https://servis.idnes.cz/rss.aspx?c=technet', 'value': 'Ve středu 11. října 2023 se NASA pochlubila vzorky, které v září z asteroidu přivezla na Zemi. (11. října 2023)'}], 'media_credit': [{'content': 'AP'}], 'credit': 'AP'}, {'title': 'Nový update Windows 11 přinese mimo jiné žádanou funkci hlavního panelu', 'title_detail': {'type': 'text/plain', 'language': None, 'base': 'https://servis.idnes.cz/rss.aspx?c=technet', 'value': 'Nový update Windows 11 přinese mimo jiné žádanou funkci hlavního panelu'}, 'links': [{'rel': 'alternate', 'type': 'text/html', 'href': 'https://www.idnes.cz/technet/software/windows-update-upgrade-microsoft-hlavni-panel-windows-moment-4-copilot.A231005_144636_software_dvr#utm_source=rss&utm_medium=feed&utm_campaign=technet&utm_content=main'}], 'link': 'https://www.idnes.cz/technet/software/windows-update-upgrade-microsoft-hlavni-panel-windows-moment-4-copilot.A231005_144636_software_dvr#utm_source=rss&utm_medium=feed&utm_campaign=technet&utm_content=main', 'summary': 'Další verze operačního systému Windows 11 přichází formou aktualizace s poměrně velkým upgradem. Těšit se můžete na Windows Copilot, inovovaného Průzkumníka Windows, nové zálohování systému, aplikací i souborů a také na jeden velký návrat.', 'summary_detail': {'type': 'text/html', 'language': None, 'base': 'https://servis.idnes.cz/rss.aspx?c=technet', 'value': 'Další verze operačního systému Windows 11 přichází formou aktualizace s poměrně velkým upgradem. Těšit se můžete na Windows Copilot, inovovaného Průzkumníka Windows, nové zálohování systému, aplikací i souborů a také na jeden velký návrat.'}, 'published': 'Tue, 10 Oct 2023 22:00:00 GMT', 'published_parsed': time.struct_time(tm_year=2023, tm_mon=10, tm_mday=10, tm_hour=22, tm_min=0, tm_sec=0, tm_wday=1, tm_yday=283, tm_isdst=0), 'tags': [{'term': 'Technet - Software', 'scheme': 'https://technet.idnes.cz/software.aspx', 'label': None}], 'comments': 'https://www.idnes.cz/technet/software/windows-update-upgrade-microsoft-hlavni-panel-windows-moment-4-copilot.A231005_144636_software_dvr/diskuse', 'id': 'A231005_144636_software_dvr', 'guidislink': False, 'media_content': [{'url': 'https://1gr.cz/fotky/idnes/21/042/cl6/DVR8aba55_microsoft_4412148_1920.jpg', 'type': 'image/jpeg'}], 'content': [{'type': 'text/plain', 'language': None, 'base': 'https://servis.idnes.cz/rss.aspx?c=technet', 'value': 'Ilustrační foto - Windows'}], 'media_credit': [{'content': 'Creative Commons'}], 'credit': 'Creative Commons'}, {'title': '„Exoti“ v rejstříku letců. Pilotní diplom získali v ČSR i Číňan a Ekvádorec', 'title_detail': {'type': 'text/plain', 'language': None, 'base': 'https://servis.idnes.cz/rss.aspx?c=technet', 'value': '„Exoti“ v rejstříku letců. Pilotní diplom získali v ČSR i Číňan a Ekvádorec'}, 'links': [{'rel': 'alternate', 'type': 'text/html', 'href': 'https://www.idnes.cz/technet/vojenstvi/pilot-ceskoslovenske-letectvo-zkousky-cinan-ekvadorec-praha-diplom-valka-nieh-heng-yu-enrique-jacome.A230830_105756_vojenstvi_hm1#utm_source=rss&utm_medium=feed&utm_campaign=technet&utm_content=main'}], 'link': 'https://www.idnes.cz/technet/vojenstvi/pilot-ceskoslovenske-letectvo-zkousky-cinan-ekvadorec-praha-diplom-valka-nieh-heng-yu-enrique-jacome.A230830_105756_vojenstvi_hm1#utm_source=rss&utm_medium=feed&utm_campaign=technet&utm_content=main', 'summary': 'To, že v prvorepublikovém rejstříku pilotů v Československu najdeme nějaké francouzské jméno, není i vzhledem k provázanosti obou zemí v tomto období ničím překvapivé. Ovšem ve 30. letech zde získala pilotní diplom pro turistická letadla i o dost exotičtější jména. Zkoušky zde udělal Číňan či Ekvádorec.', 'summary_detail': {'type': 'text/html', 'language': None, 'base': 'https://servis.idnes.cz/rss.aspx?c=technet', 'value': 'To, že v prvorepublikovém rejstříku pilotů v Československu najdeme nějaké francouzské jméno, není i vzhledem k provázanosti obou zemí v tomto období ničím překvapivé. Ovšem ve 30. letech zde získala pilotní diplom pro turistická letadla i o dost exotičtější jména. Zkoušky zde udělal Číňan či Ekvádorec.'}, 'published': 'Tue, 10 Oct 2023 22:00:00 GMT', 'published_parsed': time.struct_time(tm_year=2023, tm_mon=10, tm_mday=10, tm_hour=22, tm_min=0, tm_sec=0, tm_wday=1, tm_yday=283, tm_isdst=0), 'tags': [{'term': 'Technet - Vojenství', 'scheme': 'https://technet.idnes.cz/vojenstvi.aspx', 'label': None}], 'comments': 'https://www.idnes.cz/technet/vojenstvi/pilot-ceskoslovenske-letectvo-zkousky-cinan-ekvadorec-praha-diplom-valka-nieh-heng-yu-enrique-jacome.A230830_105756_vojenstvi_hm1/diskuse', 'id': 'A230830_105756_vojenstvi_hm1', 'guidislink': False, 'media_content': [{'url': 'https://1gr.cz/fotky/idnes/23/084/cl6/HM162a499b648_nieh4.jpg', 'type': 'image/jpeg'}], 'content': [{'type': 'text/plain', 'language': None, 'base': 'https://servis.idnes.cz/rss.aspx?c=technet', 'value': 'Nieh Heng-Yü'}], 'media_credit': [{'content': 'Wen Liang-yen (via Lennart Anderson)'}], 'credit': 'Wen Liang-yen (via Lennart Anderson)'}, {'title': 'Polský vodíkový balon vlétl do drátů vysokého napětí. Slavný závod pokračuje', 'title_detail': {'type': 'text/plain', 'language': None, 'base': 'https://servis.idnes.cz/rss.aspx?c=technet', 'value': 'Polský vodíkový balon vlétl do drátů vysokého napětí. Slavný závod pokračuje'}, 'links': [{'rel': 'alternate', 'type': 'text/html', 'href': 'https://www.idnes.cz/technet/technika/gordon-bennett-plynovy-balon-zavod.A231010_150353_tec_technika_alv#utm_source=rss&utm_medium=feed&utm_campaign=technet&utm_content=main'}], 'link': 'https://www.idnes.cz/technet/technika/gordon-bennett-plynovy-balon-zavod.A231010_150353_tec_technika_alv#utm_source=rss&utm_medium=feed&utm_campaign=technet&utm_content=main', 'summary': 'Již třetím dnem pokračuje nad jihem Spojených států Pohár Gordona Bennetta, nejstarší vytrvalostní letecký závod světa. Během ranního briefingu pořadatelé oznámili, že jeden ze dvou polských týmů vlétl nedaleko Dallasu do drátů vysokého napětí. Opa piloty převezli se zraněními do nemocnice.', 'summary_detail': {'type': 'text/html', 'language': None, 'base': 'https://servis.idnes.cz/rss.aspx?c=technet', 'value': 'Již třetím dnem pokračuje nad jihem Spojených států Pohár Gordona Bennetta, nejstarší vytrvalostní letecký závod světa. Během ranního briefingu pořadatelé oznámili, že jeden ze dvou polských týmů vlétl nedaleko Dallasu do drátů vysokého napětí. Opa piloty převezli se zraněními do nemocnice.'}, 'published': 'Tue, 10 Oct 2023 14:52:00 GMT', 'published_parsed': time.struct_time(tm_year=2023, tm_mon=10, tm_mday=10, tm_hour=14, tm_min=52, tm_sec=0, tm_wday=1, tm_yday=283, tm_isdst=0), 'tags': [{'term': 'Technet - Technika', 'scheme': 'https://technet.idnes.cz/tec_technika.aspx', 'label': None}], 'comments': 'https://www.idnes.cz/technet/technika/gordon-bennett-plynovy-balon-zavod.A231010_150353_tec_technika_alv/diskuse', 'id': 'A231010_150353_tec_technika_alv', 'guidislink': False, 'media_content': [{'url': 'https://1gr.cz/fotky/idnes/23/102/cl6/ALV86382b55f4_pozarmichaelbeard.jpg', 'type': 'image/jpeg'}, {'url': 'https://1gr.cz/fotky/idnes/23/102/cl6/ALV886f9287bf_crash.jpg', 'type': 'image/jpeg'}, {'url': 'https://1gr.cz/fotky/idnes/23/101/cl6/ALV23efa08593_plneni.jpg', 'type': 'image/jpeg'}], 'content': [{'type': 'text/plain', 'language': None, 'base': 'https://servis.idnes.cz/rss.aspx?c=technet', 'value': 'Požár vodíkového balonu polské posádky'}], 'media_credit': [{'content': 'Facebook Michael Beard'}], 'credit': 'Facebook Michael Beard'}, {'title': 'Musk doporučil při konfliktu v Izraeli sledovat toxické účty. Pak to smazal', 'title_detail': {'type': 'text/plain', 'language': None, 'base': 'https://servis.idnes.cz/rss.aspx?c=technet', 'value': 'Musk doporučil při konfliktu v Izraeli sledovat toxické účty. Pak to smazal'}, 'links': [{'rel': 'alternate', 'type': 'text/html', 'href': 'https://www.idnes.cz/technet/software/sit-x-musk-twitter-izrael-palestina-dezinfomace.A231010_144601_software_vse#utm_source=rss&utm_medium=feed&utm_campaign=technet&utm_content=main'}], 'link': 'https://www.idnes.cz/technet/software/sit-x-musk-twitter-izrael-palestina-dezinfomace.A231010_144601_software_vse#utm_source=rss&utm_medium=feed&utm_campaign=technet&utm_content=main', 'summary': 'Sociální síť X má při boji s dezinformacemi o izraelsko-palestinském konfliktu máslo na hlavě, jak upozorňují odborníci. Vše ještě umocňuje samotné chování majitele sítě, který nejdříve doporučil sledovat dva problematické účty, než svůj příspěvek smazal.', 'summary_detail': {'type': 'text/html', 'language': None, 'base': 'https://servis.idnes.cz/rss.aspx?c=technet', 'value': 'Sociální síť X má při boji s dezinformacemi o izraelsko-palestinském konfliktu máslo na hlavě, jak upozorňují odborníci. Vše ještě umocňuje samotné chování majitele sítě, který nejdříve doporučil sledovat dva problematické účty, než svůj příspěvek smazal.'}, 'published': 'Tue, 10 Oct 2023 13:34:00 GMT', 'published_parsed': time.struct_time(tm_year=2023, tm_mon=10, tm_mday=10, tm_hour=13, tm_min=34, tm_sec=0, tm_wday=1, tm_yday=283, tm_isdst=0), 'tags': [{'term': 'Technet - Software', 'scheme': 'https://technet.idnes.cz/software.aspx', 'label': None}], 'comments': 'https://www.idnes.cz/technet/software/sit-x-musk-twitter-izrael-palestina-dezinfomace.A231010_144601_software_vse/diskuse', 'id': 'A231010_144601_software_vse', 'guidislink': False, 'media_content': [{'url': 'https://1gr.cz/fotky/idnes/23/054/cl6/DOH42db0da4a8_profimedia_07295552391.jpg', 'type': 'image/jpeg'}, {'url': 'https://1gr.cz/fotky/idnes/23/101/cl6/VAJ602f688e1b_316e4874a792af40dc246aa6.jpg', 'type': 'image/jpeg'}, {'url': 'https://1gr.cz/fotky/idnes/23/101/cl6/VAJ89236064a6_40_3_ISRAEL_PALESTINIANS.JPG', 'type': 'image/jpeg'}], 'content': [{'type': 'text/plain', 'language': None, 'base': 'https://servis.idnes.cz/rss.aspx?c=technet', 'value': 'Pro geniálního Elona Muska je rok 2023 ve znamení miliardových pokut. Na Twitteru i v Tesle.'}], 'media_credit': [{'content': 'Profimedia.cz'}], 'credit': 'Profimedia.cz'}, {'title': 'Vyzkoušeli jsme brýle, které umějí téměř to, co slibují Apple Vision Pro', 'title_detail': {'type': 'text/plain', 'language': None, 'base': 'https://servis.idnes.cz/rss.aspx?c=technet', 'value': 'Vyzkoušeli jsme brýle, které umějí téměř to, co slibují Apple Vision Pro'}, 'links': [{'rel': 'alternate', 'type': 'text/html', 'href': 'https://www.idnes.cz/technet/pc-mac/htc-vive-xr-elite-virtualni-smisena-mixovana-realita-bryle-vr-mr-xr-ar.A231009_122457_hardware_vse#utm_source=rss&utm_medium=feed&utm_campaign=technet&utm_content=main'}], 'link': 'https://www.idnes.cz/technet/pc-mac/htc-vive-xr-elite-virtualni-smisena-mixovana-realita-bryle-vr-mr-xr-ar.A231009_122457_hardware_vse#utm_source=rss&utm_medium=feed&utm_campaign=technet&utm_content=main', 'summary': 'Apple v tomto roce ukázal po dlouhé době zcela nový produkt. Jeho náhlavní souprava Vision Pro se však začne prodávat nejdříve na začátku příštího. My jsme si vyzkoušeli zařízení HTC Vive XR Elite, které umí většinu Applem slibovaných funkcí již nyní.', 'summary_detail': {'type': 'text/html', 'language': None, 'base': 'https://servis.idnes.cz/rss.aspx?c=technet', 'value': 'Apple v tomto roce ukázal po dlouhé době zcela nový produkt. Jeho náhlavní souprava Vision Pro se však začne prodávat nejdříve na začátku příštího. My jsme si vyzkoušeli zařízení HTC Vive XR Elite, které umí většinu Applem slibovaných funkcí již nyní.'}, 'published': 'Mon, 09 Oct 2023 22:00:00 GMT', 'published_parsed': time.struct_time(tm_year=2023, tm_mon=10, tm_mday=9, tm_hour=22, tm_min=0, tm_sec=0, tm_wday=0, tm_yday=282, tm_isdst=0), 'tags': [{'term': 'Technet - PC & Mac', 'scheme': 'https://technet.idnes.cz/hardware.aspx', 'label': None}], 'comments': 'https://www.idnes.cz/technet/pc-mac/htc-vive-xr-elite-virtualni-smisena-mixovana-realita-bryle-vr-mr-xr-ar.A231009_122457_hardware_vse/diskuse', 'id': 'A231009_122457_hardware_vse', 'guidislink': False, 'media_content': [{'url': 'https://1gr.cz/fotky/idnes/23/101/cl6/VSEab84a71a7b_htcvivexr.jpg', 'type': 'image/jpeg'}, {'url': 'https://1gr.cz/fotky/idnes/23/101/cl6/VSEb3575bb9cb_htcViveXRH.jpg', 'type': 'image/jpeg'}, {'url': 'https://1gr.cz/fotky/idnes/23/101/cl6/VSEa1d7c83262_IMG_1137.JPG', 'type': 'image/jpeg'}], 'content': [{'type': 'text/plain', 'language': None, 'base': 'https://servis.idnes.cz/rss.aspx?c=technet', 'value': 'Kompletní náhlavní souprava HTC Vive XR Elite'}], 'media_credit': [{'content': 'HTC'}], 'credit': 'HTC'}, {'title': 'VIDEO: Naposledy v zahraničí. Co předvedl vrtulník Mi-24 AČR na Slovensku', 'title_detail': {'type': 'text/plain', 'language': None, 'base': 'https://servis.idnes.cz/rss.aspx?c=technet', 'value': 'VIDEO: Naposledy v zahraničí. Co předvedl vrtulník Mi-24 AČR na Slovensku'}, 'links': [{'rel': 'alternate', 'type': 'text/html', 'href': 'https://www.idnes.cz/technet/vojenstvi/siaf-2023-mi-24-louceni-vyrazeni-z-vyzbroje-acr.A231006_140747_vojenstvi_erp#utm_source=rss&utm_medium=feed&utm_campaign=technet&utm_content=main'}], 'link': 'https://www.idnes.cz/technet/vojenstvi/siaf-2023-mi-24-louceni-vyrazeni-z-vyzbroje-acr.A231006_140747_vojenstvi_erp#utm_source=rss&utm_medium=feed&utm_campaign=technet&utm_content=main', 'summary': 'Oficiální rozloučení s vrtulníky Mi-24 před jejich vyřazením z výzbroje AČR se konalo na letošních Dnech NATO v Mošnově. Ale poslední zahraniční vystoupení, spadající do procesu loučení, proběhlo již o dva týdny dříve, prvního zářijového víkendu na slovenských Mezinárodních leteckých dnech SIAF 2023.', 'summary_detail': {'type': 'text/html', 'language': None, 'base': 'https://servis.idnes.cz/rss.aspx?c=technet', 'value': 'Oficiální rozloučení s vrtulníky Mi-24 před jejich vyřazením z výzbroje AČR se konalo na letošních Dnech NATO v Mošnově. Ale poslední zahraniční vystoupení, spadající do procesu loučení, proběhlo již o dva týdny dříve, prvního zářijového víkendu na slovenských Mezinárodních leteckých dnech SIAF 2023.'}, 'published': 'Sun, 08 Oct 2023 22:00:00 GMT', 'published_parsed': time.struct_time(tm_year=2023, tm_mon=10, tm_mday=8, tm_hour=22, tm_min=0, tm_sec=0, tm_wday=6, tm_yday=281, tm_isdst=0), 'tags': [{'term': 'Technet - Vojenství', 'scheme': 'https://technet.idnes.cz/vojenstvi.aspx', 'label': None}], 'comments': 'https://www.idnes.cz/technet/vojenstvi/siaf-2023-mi-24-louceni-vyrazeni-z-vyzbroje-acr.A231006_140747_vojenstvi_erp/diskuse', 'id': 'A231006_140747_vojenstvi_erp', 'guidislink': False, 'media_content': [{'url': 'https://1gr.cz/fotky/idnes/16/052/cl6/JKK633d12_Mi_24_3366_4_chlebecek.JPG', 'type': 'image/jpeg'}, {'url': 'https://1gr.cz/fotky/idnes/23/061/cl6/INC878554fd23_DSC_5045.jpeg', 'type': 'image/jpeg'}, {'url': 'https://1gr.cz/fotky/idnes/18/032/cl6/JB71f714_prii.jpg', 'type': 'image/jpeg'}], 'content': [{'type': 'text/plain', 'language': None, 'base': 'https://servis.idnes.cz/rss.aspx?c=technet', 'value': 'ilustrační snímek'}], 'media_credit': [{'content': 'The Flying Hippos, web létajícího personálu 221. a 222. letky vrtulníkové základny Náměšť'}], 'credit': 'The Flying Hippos, web létajícího personálu 221. a 222. letky vrtulníkové základny Náměšť'}, {'title': 'Na tvůrce umělé inteligence se valí vlna žalob kvůli autorským právům', 'title_detail': {'type': 'text/plain', 'language': None, 'base': 'https://servis.idnes.cz/rss.aspx?c=technet', 'value': 'Na tvůrce umělé inteligence se valí vlna žalob kvůli autorským právům'}, 'links': [{'rel': 'alternate', 'type': 'text/html', 'href': 'https://www.idnes.cz/technet/software/umela-inteligence-strojove-uceni-internet-generativni-regulace-pravo.A231005_094351_software_vse#utm_source=rss&utm_medium=feed&utm_campaign=technet&utm_content=main'}], 'link': 'https://www.idnes.cz/technet/software/umela-inteligence-strojove-uceni-internet-generativni-regulace-pravo.A231005_094351_software_vse#utm_source=rss&utm_medium=feed&utm_campaign=technet&utm_content=main', 'summary': 'Řada tvůrců systémů generativní umělé inteligence využívala k trénování svých modelů data, která jim přišla na internetu pod ruku. To se však nelíbí tvůrcům textového i audiovizuálního obsahu, kteří se stále hlasitěji ozývají.', 'summary_detail': {'type': 'text/html', 'language': None, 'base': 'https://servis.idnes.cz/rss.aspx?c=technet', 'value': 'Řada tvůrců systémů generativní umělé inteligence využívala k trénování svých modelů data, která jim přišla na internetu pod ruku. To se však nelíbí tvůrcům textového i audiovizuálního obsahu, kteří se stále hlasitěji ozývají.'}, 'published': 'Sun, 08 Oct 2023 22:00:00 GMT', 'published_parsed': time.struct_time(tm_year=2023, tm_mon=10, tm_mday=8, tm_hour=22, tm_min=0, tm_sec=0, tm_wday=6, tm_yday=281, tm_isdst=0), 'tags': [{'term': 'Technet - Software', 'scheme': 'https://technet.idnes.cz/software.aspx', 'label': None}], 'comments': 'https://www.idnes.cz/technet/software/umela-inteligence-strojove-uceni-internet-generativni-regulace-pravo.A231005_094351_software_vse/diskuse', 'id': 'A231005_094351_software_vse', 'guidislink': False, 'media_content': [{'url': 'https://1gr.cz/fotky/idnes/22/073/cl6/MBB7db15d_BALD.jpg', 'type': 'image/jpeg'}], 'content': [{'type': 'text/plain', 'language': None, 'base': 'https://servis.idnes.cz/rss.aspx?c=technet', 'value': 'ilustrační snímek'}], 'media_credit': [{'content': 'Profimedia.cz'}], 'credit': 'Profimedia.cz'}, {'title': '16 týmů odstartovalo do noci. Balony mohou ve vzduchu bojovat i čtyři dny', 'title_detail': {'type': 'text/plain', 'language': None, 'base': 'https://servis.idnes.cz/rss.aspx?c=technet', 'value': '16 týmů odstartovalo do noci. Balony mohou ve vzduchu bojovat i čtyři dny'}, 'links': [{'rel': 'alternate', 'type': 'text/html', 'href': 'https://www.idnes.cz/technet/technika/gordon-bennett-plynovy-balon-zavod.A231006_132259_tec_technika_alv#utm_source=rss&utm_medium=feed&utm_campaign=technet&utm_content=main'}], 'link': 'https://www.idnes.cz/technet/technika/gordon-bennett-plynovy-balon-zavod.A231006_132259_tec_technika_alv#utm_source=rss&utm_medium=feed&utm_campaign=technet&utm_content=main', 'summary': 'Ve 20:30 hodin místního času, resp. v půl páté ráno našeho času odstartoval v Albuquerque v Novém Mexiku 66. roční slavného závodu vodíkových balonu Pohár Gordona Bennetta. Nejstarší letecká vytrvalostní soutěž na světě je již tradičně bojem na hraně.', 'summary_detail': {'type': 'text/html', 'language': None, 'base': 'https://servis.idnes.cz/rss.aspx?c=technet', 'value': 'Ve 20:30 hodin místního času, resp. v půl páté ráno našeho času odstartoval v Albuquerque v Novém Mexiku 66. roční slavného závodu vodíkových balonu Pohár Gordona Bennetta. Nejstarší letecká vytrvalostní soutěž na světě je již tradičně bojem na hraně.'}, 'published': 'Sun, 08 Oct 2023 03:28:00 GMT', 'published_parsed': time.struct_time(tm_year=2023, tm_mon=10, tm_mday=8, tm_hour=3, tm_min=28, tm_sec=0, tm_wday=6, tm_yday=281, tm_isdst=0), 'tags': [{'term': 'Technet - Technika', 'scheme': 'https://technet.idnes.cz/tec_technika.aspx', 'label': None}], 'comments': 'https://www.idnes.cz/technet/technika/gordon-bennett-plynovy-balon-zavod.A231006_132259_tec_technika_alv/diskuse', 'id': 'A231006_132259_tec_technika_alv', 'guidislink': False, 'media_content': [{'url': 'https://1gr.cz/fotky/idnes/23/101/cl6/ALV2247f0daf0_gb2023.jpg', 'type': 'image/jpeg'}, {'url': 'https://1gr.cz/fotky/idnes/23/101/cl6/ALV23efa08593_plneni.jpg', 'type': 'image/jpeg'}, {'url': 'https://1gr.cz/fotky/idnes/21/083/cl6/ALV8d9b03_kos2013.jpg', 'type': 'image/jpeg'}], 'content': [{'type': 'text/plain', 'language': None, 'base': 'https://servis.idnes.cz/rss.aspx?c=technet', 'value': 'Startovní pole 66. ročníku Poháru Gordona Bennetta v Albuquerque, září 2023'}], 'media_credit': [{'content': 'Gordon Bennett 2023'}], 'credit': 'Gordon Bennett 2023'}, {'title': 'Zedník Lorenc ze Samoty u lesa se narodil před 100 lety', 'title_detail': {'type': 'text/plain', 'language': None, 'base': 'https://servis.idnes.cz/rss.aspx?c=technet', 'value': 'Zedník Lorenc ze Samoty u lesa se narodil před 100 lety'}, 'links': [{'rel': 'alternate', 'type': 'text/html', 'href': 'https://www.idnes.cz/technet/pred-100-lety/pred-100-lety-frantisek-rehak-zednik-lorenc-na-samote-u-lesa-skrivanci-na-niti.A230929_161441_pred-100-lety_vojt#utm_source=rss&utm_medium=feed&utm_campaign=technet&utm_content=main'}], 'link': 'https://www.idnes.cz/technet/pred-100-lety/pred-100-lety-frantisek-rehak-zednik-lorenc-na-samote-u-lesa-skrivanci-na-niti.A230929_161441_pred-100-lety_vojt#utm_source=rss&utm_medium=feed&utm_campaign=technet&utm_content=main', 'summary': '4. října 1923 se narodil český herec František Řehák, pan Lorenc ze Samoty u lesa, cestář Procházka ze Slavností sněženek nebo třeba Drobeček ze Skřivánků na niti.', 'summary_detail': {'type': 'text/html', 'language': None, 'base': 'https://servis.idnes.cz/rss.aspx?c=technet', 'value': '4. října 1923 se narodil český herec František Řehák, pan Lorenc ze Samoty u lesa, cestář Procházka ze Slavností sněženek nebo třeba Drobeček ze Skřivánků na niti.'}, 'published': 'Sat, 07 Oct 2023 22:05:00 GMT', 'published_parsed': time.struct_time(tm_year=2023, tm_mon=10, tm_mday=7, tm_hour=22, tm_min=5, tm_sec=0, tm_wday=5, tm_yday=280, tm_isdst=0), 'tags': [{'term': 'Technet - Před 100 lety', 'scheme': 'https://technet.idnes.cz/pred-100-lety.aspx', 'label': None}], 'comments': 'https://www.idnes.cz/technet/pred-100-lety/pred-100-lety-frantisek-rehak-zednik-lorenc-na-samote-u-lesa-skrivanci-na-niti.A230929_161441_pred-100-lety_vojt/diskuse', 'id': 'A230929_161441_pred-100-lety_vojt', 'guidislink': False, 'media_content': [{'url': 'https://1gr.cz/fotky/idnes/17/063/cl6/NAV6c4cad_lorenc.jpg', 'type': 'image/jpeg'}], 'content': [{'type': 'text/plain', 'language': None, 'base': 'https://servis.idnes.cz/rss.aspx?c=technet', 'value': 'Zemřel František Řehák, hrál zedníka Lorence v komedii Na samotě u lesa'}], 'media_credit': [{'content': 'Bontonfilm'}], 'credit': 'Bontonfilm'}, {'title': 'Ukrajinci vyvinuli řadu obrněných vozidel 4×4. Jejich výzbroj je rozmanitá', 'title_detail': {'type': 'text/plain', 'language': None, 'base': 'https://servis.idnes.cz/rss.aspx?c=technet', 'value': 'Ukrajinci vyvinuli řadu obrněných vozidel 4×4. Jejich výzbroj je rozmanitá'}, 'links': [{'rel': 'alternate', 'type': 'text/html', 'href': 'https://www.idnes.cz/technet/vojenstvi/kompletni-seznam-ukrajinskych-obrnenych-vozidel-4x4.A231006_111506_vojenstvi_erp/foto#utm_source=rss&utm_medium=feed&utm_campaign=technet&utm_content=main'}], 'link': 'https://www.idnes.cz/technet/vojenstvi/kompletni-seznam-ukrajinskych-obrnenych-vozidel-4x4.A231006_111506_vojenstvi_erp/foto#utm_source=rss&utm_medium=feed&utm_campaign=technet&utm_content=main', 'summary': 'Po rozpadu SSSR zůstalo na Ukrajině nejvíce průmyslu a největší vývojový potenciál z bývalých svazových republik. Ukrajina se netajila snahou vstoupit do NATO, což bylo pro výrobce vidinou možnosti nabídnout svá vojenská vozidla na nové trhy. Představme si řadu obrněných vozidel s pohonem 4×4.', 'summary_detail': {'type': 'text/html', 'language': None, 'base': 'https://servis.idnes.cz/rss.aspx?c=technet', 'value': 'Po rozpadu SSSR zůstalo na Ukrajině nejvíce průmyslu a největší vývojový potenciál z bývalých svazových republik. Ukrajina se netajila snahou vstoupit do NATO, což bylo pro výrobce vidinou možnosti nabídnout svá vojenská vozidla na nové trhy. Představme si řadu obrněných vozidel s pohonem 4×4.'}, 'published': 'Sat, 07 Oct 2023 22:00:00 GMT', 'published_parsed': time.struct_time(tm_year=2023, tm_mon=10, tm_mday=7, tm_hour=22, tm_min=0, tm_sec=0, tm_wday=5, tm_yday=280, tm_isdst=0), 'tags': [{'term': 'Technet - Vojenství', 'scheme': 'https://technet.idnes.cz/vojenstvi.aspx', 'label': None}], 'comments': 'https://www.idnes.cz/technet/vojenstvi/kompletni-seznam-ukrajinskych-obrnenych-vozidel-4x4.A231006_111506_vojenstvi_erp/diskuse', 'id': 'A231006_111506_vojenstvi_erp', 'guidislink': False, 'media_content': [{'url': 'https://1gr.cz/fotky/idnes/23/101/cl6/ERP598835a073_019.jpg', 'type': 'image/jpeg'}, {'url': 'https://1gr.cz/fotky/idnes/23/101/cl6/ERP54be9105f8_001.jpg', 'type': 'image/jpeg'}, {'url': 'https://1gr.cz/fotky/idnes/23/101/cl6/ERP55dce9a15d_004.jpg', 'type': 'image/jpeg'}], 'content': [{'type': 'text/plain', 'language': None, 'base': 'https://servis.idnes.cz/rss.aspx?c=technet', 'value': 'KrAZ Spartan s hmotností 8,5 t slouží pro přepravu 2+6 mužů. Obrněný automobil Spartan se vyrábí v základní verzi vyzbrojené střeleckým stanovištěm s kulomety KPVT ráže 14,5 mm, NSV Utes ráže 12,7 mm nebo PKT ráže 7,62 mm. Na přehlídce v květnu 2014 byla předvedena i verze vyzbrojená čtyřmi PTŘS Skif. Kromě základní verze se vyrábí varianta Cyclone, určená pro speciální policejní jednotky.'}], 'media_credit': [{'content': 'Ukrajinská národní garda'}], 'credit': 'Ukrajinská národní garda'}, {'title': 'Majitel Amazonu začíná budovat satelitní konkurenci Starlinku od Muska', 'title_detail': {'type': 'text/plain', 'language': None, 'base': 'https://servis.idnes.cz/rss.aspx?c=technet', 'value': 'Majitel Amazonu začíná budovat satelitní konkurenci Starlinku od Muska'}, 'links': [{'rel': 'alternate', 'type': 'text/html', 'href': 'https://www.idnes.cz/technet/vesmir/kuiper-amazon-satelit-druzice-internet-starlink-jeff-bezos-protoflight.A231006_114614_tec_vesmir_vse#utm_source=rss&utm_medium=feed&utm_campaign=technet&utm_content=main'}], 'link': 'https://www.idnes.cz/technet/vesmir/kuiper-amazon-satelit-druzice-internet-starlink-jeff-bezos-protoflight.A231006_114614_tec_vesmir_vse#utm_source=rss&utm_medium=feed&utm_campaign=technet&utm_content=main', 'summary': 'Projekt Kuiper začíná nabývat reálných rozměrů. V pátek večer se vydaly do vesmíru první dva prototypy satelitů, které otestují budoucí schopnosti internetového satelitního připojení od Amazonu.', 'summary_detail': {'type': 'text/html', 'language': None, 'base': 'https://servis.idnes.cz/rss.aspx?c=technet', 'value': 'Projekt Kuiper začíná nabývat reálných rozměrů. V pátek večer se vydaly do vesmíru první dva prototypy satelitů, které otestují budoucí schopnosti internetového satelitního připojení od Amazonu.'}, 'published': 'Fri, 06 Oct 2023 18:06:30 GMT', 'published_parsed': time.struct_time(tm_year=2023, tm_mon=10, tm_mday=6, tm_hour=18, tm_min=6, tm_sec=30, tm_wday=4, tm_yday=279, tm_isdst=0), 'tags': [{'term': 'Technet - Vesmír', 'scheme': 'https://technet.idnes.cz/tec_vesmir.aspx', 'label': None}], 'comments': 'https://www.idnes.cz/technet/vesmir/kuiper-amazon-satelit-druzice-internet-starlink-jeff-bezos-protoflight.A231006_114614_tec_vesmir_vse/diskuse', 'id': 'A231006_114614_tec_vesmir_vse', 'guidislink': False, 'media_content': [{'url': 'https://1gr.cz/fotky/idnes/23/101/cl6/VSEa8c05a99da_kuiper.jpg', 'type': 'image/jpeg'}], 'content': [{'type': 'text/plain', 'language': None, 'base': 'https://servis.idnes.cz/rss.aspx?c=technet', 'value': 'Start rakety Atlas V s družicemi KuiperSat-1 a 2'}], 'media_credit': [{'content': 'ULA'}], 'credit': 'ULA'}, {'title': 'Vesmírný kartograf Antonín Bečvář získal ocenění Littera Astronomica', 'title_detail': {'type': 'text/plain', 'language': None, 'base': 'https://servis.idnes.cz/rss.aspx?c=technet', 'value': 'Vesmírný kartograf Antonín Bečvář získal ocenění Littera Astronomica'}, 'links': [{'rel': 'alternate', 'type': 'text/html', 'href': 'https://www.idnes.cz/technet/vesmir/antonin-becvar-atlas-coeli-astronom-littera-astronomica.A231006_094719_tec_vesmir_alv#utm_source=rss&utm_medium=feed&utm_campaign=technet&utm_content=main'}], 'link': 'https://www.idnes.cz/technet/vesmir/antonin-becvar-atlas-coeli-astronom-littera-astronomica.A231006_094719_tec_vesmir_alv#utm_source=rss&utm_medium=feed&utm_campaign=technet&utm_content=main', 'summary': 'Česká astronomická společnost ocenila cenou Littera Astronomica za rok 2023 RNDr. Antonína Bečváře in memoriam za jeho celoživotní publikační činnost v oblasti popularizace astronomie. Světově známým se stal především jeho Atlas Coeli.', 'summary_detail': {'type': 'text/html', 'language': None, 'base': 'https://servis.idnes.cz/rss.aspx?c=technet', 'value': 'Česká astronomická společnost ocenila cenou Littera Astronomica za rok 2023 RNDr. Antonína Bečváře in memoriam za jeho celoživotní publikační činnost v oblasti popularizace astronomie. Světově známým se stal především jeho Atlas Coeli.'}, 'published': 'Fri, 06 Oct 2023 09:08:00 GMT', 'published_parsed': time.struct_time(tm_year=2023, tm_mon=10, tm_mday=6, tm_hour=9, tm_min=8, tm_sec=0, tm_wday=4, tm_yday=279, tm_isdst=0), 'tags': [{'term': 'Technet - Vesmír', 'scheme': 'https://technet.idnes.cz/tec_vesmir.aspx', 'label': None}], 'comments': 'https://www.idnes.cz/technet/vesmir/antonin-becvar-atlas-coeli-astronom-littera-astronomica.A231006_094719_tec_vesmir_alv/diskuse', 'id': 'A231006_094719_tec_vesmir_alv', 'guidislink': False, 'media_content': [{'url': 'https://1gr.cz/fotky/idnes/22/011/cl6/ALV908776_Becvar.jpg', 'type': 'image/jpeg'}], 'content': [{'type': 'text/plain', 'language': None, 'base': 'https://servis.idnes.cz/rss.aspx?c=technet', 'value': 'Astronom Antonín Bečvář'}], 'media_credit': [{'content': 'archiv ČAS'}], 'credit': 'archiv ČAS'}, {'title': 'Odvody před 100 lety: na vojnu odešly desetitisíce Čechoslováků', 'title_detail': {'type': 'text/plain', 'language': None, 'base': 'https://servis.idnes.cz/rss.aspx?c=technet', 'value': 'Odvody před 100 lety: na vojnu odešly desetitisíce Čechoslováků'}, 'links': [{'rel': 'alternate', 'type': 'text/html', 'href': 'https://www.idnes.cz/technet/pred-100-lety/pred-100-lety-ceskoslovensko-armada-vojenstvi-vojna-odvod.A230929_133633_pred-100-lety_vojt#utm_source=rss&utm_medium=feed&utm_campaign=technet&utm_content=main'}], 'link': 'https://www.idnes.cz/technet/pred-100-lety/pred-100-lety-ceskoslovensko-armada-vojenstvi-vojna-odvod.A230929_133633_pred-100-lety_vojt#utm_source=rss&utm_medium=feed&utm_campaign=technet&utm_content=main', 'summary': 'V říjnu 1923 odvedla armáda desítky tisíc československých mladých mužů na povinnou prezenční vojenskou službu. Ta tehdy trvala podle předpisu z roku 1920 čtrnáct měsíců.', 'summary_detail': {'type': 'text/html', 'language': None, 'base': 'https://servis.idnes.cz/rss.aspx?c=technet', 'value': 'V říjnu 1923 odvedla armáda desítky tisíc československých mladých mužů na povinnou prezenční vojenskou službu. Ta tehdy trvala podle předpisu z roku 1920 čtrnáct měsíců.'}, 'published': 'Thu, 05 Oct 2023 22:05:00 GMT', 'published_parsed': time.struct_time(tm_year=2023, tm_mon=10, tm_mday=5, tm_hour=22, tm_min=5, tm_sec=0, tm_wday=3, tm_yday=278, tm_isdst=0), 'tags': [{'term': 'Technet - Před 100 lety', 'scheme': 'https://technet.idnes.cz/pred-100-lety.aspx', 'label': None}], 'comments': 'https://www.idnes.cz/technet/pred-100-lety/pred-100-lety-ceskoslovensko-armada-vojenstvi-vojna-odvod.A230929_133633_pred-100-lety_vojt/diskuse', 'id': 'A230929_133633_pred-100-lety_vojt', 'guidislink': False, 'media_content': [{'url': 'https://1gr.cz/fotky/idnes/23/093/cl6/VOJ71667e716d_45upCSrekrutu00_00_18_00.jpg', 'type': 'image/jpeg'}], 'content': [{'type': 'text/plain', 'language': None, 'base': 'https://servis.idnes.cz/rss.aspx?c=technet', 'value': 'Před 100 lety odešly na vojnu desetitisíce Čechoslováků'}], 'media_credit': [{'content': 'VHÚ'}], 'credit': 'VHÚ'}, {'title': 'Proč SpaceX nepřevezme všechny vesmírné zakázky a konkurence není neschopná', 'title_detail': {'type': 'text/plain', 'language': None, 'base': 'https://servis.idnes.cz/rss.aspx?c=technet', 'value': 'Proč SpaceX nepřevezme všechny vesmírné zakázky a konkurence není neschopná'}, 'links': [{'rel': 'alternate', 'type': 'text/html', 'href': 'https://www.idnes.cz/technet/vesmir/spacex-raketa-falcon-vesmir-elon-musk-horni-stupen-navrat.A231005_145618_tec_vesmir_vse#utm_source=rss&utm_medium=feed&utm_campaign=technet&utm_content=main'}], 'link': 'https://www.idnes.cz/technet/vesmir/spacex-raketa-falcon-vesmir-elon-musk-horni-stupen-navrat.A231005_145618_tec_vesmir_vse#utm_source=rss&utm_medium=feed&utm_campaign=technet&utm_content=main', 'summary': 'Dokáže snad Elon Musk se svou společností SpaceX převzít všechny kosmické starty? I když má výhodu v nízkých nákladech díky znovupoužitelnosti části raket, ve hře je mnoho aspektů, které dávají konkurenci šanci.', 'summary_detail': {'type': 'text/html', 'language': None, 'base': 'https://servis.idnes.cz/rss.aspx?c=technet', 'value': 'Dokáže snad Elon Musk se svou společností SpaceX převzít všechny kosmické starty? I když má výhodu v nízkých nákladech díky znovupoužitelnosti části raket, ve hře je mnoho aspektů, které dávají konkurenci šanci.'}, 'published': 'Thu, 05 Oct 2023 22:00:00 GMT', 'published_parsed': time.struct_time(tm_year=2023, tm_mon=10, tm_mday=5, tm_hour=22, tm_min=0, tm_sec=0, tm_wday=3, tm_yday=278, tm_isdst=0), 'tags': [{'term': 'Technet - Vesmír', 'scheme': 'https://technet.idnes.cz/tec_vesmir.aspx', 'label': None}], 'comments': 'https://www.idnes.cz/technet/vesmir/spacex-raketa-falcon-vesmir-elon-musk-horni-stupen-navrat.A231005_145618_tec_vesmir_vse/diskuse', 'id': 'A231005_145618_tec_vesmir_vse', 'guidislink': False, 'media_content': [{'url': 'https://1gr.cz/fotky/idnes/22/104/cl6/VSE9724bb_FHside.jpg', 'type': 'image/jpeg'}], 'content': [{'type': 'text/plain', 'language': None, 'base': 'https://servis.idnes.cz/rss.aspx?c=technet', 'value': 'Přistání bočních stupňů na LZ-1 a LZ-2 při misi Arabsat 6A'}], 'media_credit': [{'content': 'SpaceX'}], 'credit': 'SpaceX'}, {'title': 'Vesmír nosí Pradu. Astronautům navrhne skafandry luxusní italská značka', 'title_detail': {'type': 'text/plain', 'language': None, 'base': 'https://servis.idnes.cz/rss.aspx?c=technet', 'value': 'Vesmír nosí Pradu. Astronautům navrhne skafandry luxusní italská značka'}, 'links': [{'rel': 'alternate', 'type': 'text/html', 'href': 'https://www.idnes.cz/technet/vesmir/prada-nasa-vesmir-kosmos-moda-vybaveni-astronauti-artemis-iii-mesic-bezos-modul.A231005_113549_zahranicni_ihal#utm_source=rss&utm_medium=feed&utm_campaign=technet&utm_content=main'}], 'link': 'https://www.idnes.cz/technet/vesmir/prada-nasa-vesmir-kosmos-moda-vybaveni-astronauti-artemis-iii-mesic-bezos-modul.A231005_113549_zahranicni_ihal#utm_source=rss&utm_medium=feed&utm_campaign=technet&utm_content=main', 'summary': 'Obleky astronautů, kteří zamíří k Měsíci v rámci mise Artemis, pomůže navrhnout luxusní italská módní značka Prada. Bude spolupracovat se společností Axiom Space, která má na vybavení astronautů kontrakt s americkým Národním úřadem pro letectví a vesmír (NASA). V rámci mise Artemis III, která se uskuteční nejdříve v roce 2025, by se měli lidé poprvé od roku 1972 vrátit na povrch Měsíce.', 'summary_detail': {'type': 'text/html', 'language': None, 'base': 'https://servis.idnes.cz/rss.aspx?c=technet', 'value': 'Obleky astronautů, kteří zamíří k Měsíci v rámci mise Artemis, pomůže navrhnout luxusní italská módní značka Prada. Bude spolupracovat se společností Axiom Space, která má na vybavení astronautů kontrakt s americkým Národním úřadem pro letectví a vesmír (NASA). V rámci mise Artemis III, která se uskuteční nejdříve v roce 2025, by se měli lidé poprvé od roku 1972 vrátit na povrch Měsíce.'}, 'published': 'Thu, 05 Oct 2023 09:49:00 GMT', 'published_parsed': time.struct_time(tm_year=2023, tm_mon=10, tm_mday=5, tm_hour=9, tm_min=49, tm_sec=0, tm_wday=3, tm_yday=278, tm_isdst=0), 'tags': [{'term': 'Technet - Vesmír', 'scheme': 'https://technet.idnes.cz/tec_vesmir.aspx', 'label': None}], 'comments': 'https://www.idnes.cz/technet/vesmir/prada-nasa-vesmir-kosmos-moda-vybaveni-astronauti-artemis-iii-mesic-bezos-modul.A231005_113549_zahranicni_ihal/diskuse', 'id': 'A231005_113549_zahranicni_ihal', 'guidislink': False, 'media_content': [{'url': 'https://1gr.cz/fotky/idnes/23/032/cl6/VSE9a202f_Axiom_AxEMU_SuitDetail_03.jpg', 'type': 'image/jpeg'}, {'url': 'https://1gr.cz/fotky/idnes/23/032/cl6/VSE9a202b_axiom_axemu_suitdetail_01.jpg', 'type': 'image/jpeg'}, {'url': 'https://1gr.cz/fotky/idnes/23/032/cl6/VSE9a2030_Axiom_AxEMU_SuitDetail_04.jpg', 'type': 'image/jpeg'}], 'content': [{'type': 'text/plain', 'language': None, 'base': 'https://servis.idnes.cz/rss.aspx?c=technet', 'value': 'Přilba skafandru AxEMU'}], 'media_credit': [{'content': 'NASA/Axiom Space'}], 'credit': 'NASA/Axiom Space'}, {'title': 'Vyzkoušejte si dokonalou kontrolu nad PC s operačním systémem Windows', 'title_detail': {'type': 'text/plain', 'language': None, 'base': 'https://servis.idnes.cz/rss.aspx?c=technet', 'value': 'Vyzkoušejte si dokonalou kontrolu nad PC s operačním systémem Windows'}, 'links': [{'rel': 'alternate', 'type': 'text/html', 'href': 'https://www.idnes.cz/technet/software/sysinternals-nastroje-utility-windows-microsoft-pc-kontrola.A230927_132337_software_dvr#utm_source=rss&utm_medium=feed&utm_campaign=technet&utm_content=main'}], 'link': 'https://www.idnes.cz/technet/software/sysinternals-nastroje-utility-windows-microsoft-pc-kontrola.A230927_132337_software_dvr#utm_source=rss&utm_medium=feed&utm_campaign=technet&utm_content=main', 'summary': 'Existuje už skoro tři dekády a stále patří mezi nejlepší počiny pro správu PC, jeho diagnostiku, řešení problémů nebo monitorování v prostředí operačních systémů společnosti Microsoft. Řeč je o sadě pokročilých softwarových nástrojů Sysinternals. Jak vznikly, kdy je Microsoft převzal a co dnes nabízejí?', 'summary_detail': {'type': 'text/html', 'language': None, 'base': 'https://servis.idnes.cz/rss.aspx?c=technet', 'value': 'Existuje už skoro tři dekády a stále patří mezi nejlepší počiny pro správu PC, jeho diagnostiku, řešení problémů nebo monitorování v prostředí operačních systémů společnosti Microsoft. Řeč je o sadě pokročilých softwarových nástrojů Sysinternals. Jak vznikly, kdy je Microsoft převzal a co dnes nabízejí?'}, 'published': 'Wed, 04 Oct 2023 22:00:00 GMT', 'published_parsed': time.struct_time(tm_year=2023, tm_mon=10, tm_mday=4, tm_hour=22, tm_min=0, tm_sec=0, tm_wday=2, tm_yday=277, tm_isdst=0), 'tags': [{'term': 'Technet - Software', 'scheme': 'https://technet.idnes.cz/software.aspx', 'label': None}], 'comments': 'https://www.idnes.cz/technet/software/sysinternals-nastroje-utility-windows-microsoft-pc-kontrola.A230927_132337_software_dvr/diskuse', 'id': 'A230927_132337_software_dvr', 'guidislink': False, 'media_content': [{'url': 'https://1gr.cz/fotky/idnes/23/012/cl6/DVR98d4a4_Swift_Go_14_AMD_lifestyle_02.jpg', 'type': 'image/jpeg'}], 'content': [{'type': 'text/plain', 'language': None, 'base': 'https://servis.idnes.cz/rss.aspx?c=technet', 'value': 'Ilustrační foto - notebook'}], 'media_credit': [{'content': 'Technet.cz'}], 'credit': 'Technet.cz'}, {'title': 'VIDEO: Podívaná v Alpách. Letci ukázali své umění mezi horskými masivy', 'title_detail': {'type': 'text/plain', 'language': None, 'base': 'https://servis.idnes.cz/rss.aspx?c=technet', 'value': 'VIDEO: Podívaná v Alpách. Letci ukázali své umění mezi horskými masivy'}, 'links': [{'rel': 'alternate', 'type': 'text/html', 'href': 'https://www.idnes.cz/technet/vojenstvi/letecky-den-zigairmeet-2023.A230926_203506_vojenstvi_erp#utm_source=rss&utm_medium=feed&utm_campaign=technet&utm_content=main'}], 'link': 'https://www.idnes.cz/technet/vojenstvi/letecky-den-zigairmeet-2023.A230926_203506_vojenstvi_erp#utm_source=rss&utm_medium=feed&utm_campaign=technet&utm_content=main', 'summary': 'Dechberoucí vystoupení moderních i historických letadel nabídla letecká show ve švýcarských Alpách, která se konala ve dnech 18. a 19. srpna. Diváci mimo jiné viděli z dnes sloužících strojů Typhoon, Rafale, F-16 nebo F/A-18, z historických Spitfire, P-38 Lightning, B-25 Mitchell nebo DC-3.', 'summary_detail': {'type': 'text/html', 'language': None, 'base': 'https://servis.idnes.cz/rss.aspx?c=technet', 'value': 'Dechberoucí vystoupení moderních i historických letadel nabídla letecká show ve švýcarských Alpách, která se konala ve dnech 18. a 19. srpna. Diváci mimo jiné viděli z dnes sloužících strojů Typhoon, Rafale, F-16 nebo F/A-18, z historických Spitfire, P-38 Lightning, B-25 Mitchell nebo DC-3.'}, 'published': 'Wed, 04 Oct 2023 22:00:00 GMT', 'published_parsed': time.struct_time(tm_year=2023, tm_mon=10, tm_mday=4, tm_hour=22, tm_min=0, tm_sec=0, tm_wday=2, tm_yday=277, tm_isdst=0), 'tags': [{'term': 'Technet - Vojenství', 'scheme': 'https://technet.idnes.cz/vojenstvi.aspx', 'label': None}], 'comments': 'https://www.idnes.cz/technet/vojenstvi/letecky-den-zigairmeet-2023.A230926_203506_vojenstvi_erp/diskuse', 'id': 'A230926_203506_vojenstvi_erp', 'guidislink': False, 'media_content': [{'url': 'https://1gr.cz/fotky/idnes/23/101/cl6/ERP81195872a7_zigairmeet.jpg', 'type': 'image/jpeg'}], 'content': [{'type': 'text/plain', 'language': None, 'base': 'https://servis.idnes.cz/rss.aspx?c=technet', 'value': 'ilustrační snímek'}], 'media_credit': [{'content': 'public domain'}], 'credit': 'public domain'}, {'title': 'Jak fungoval drsnoměr a tloušťkoměr? Zlínský vědec představí retro přístroje', 'title_detail': {'type': 'text/plain', 'language': None, 'base': 'https://servis.idnes.cz/rss.aspx?c=technet', 'value': 'Jak fungoval drsnoměr a tloušťkoměr? Zlínský vědec představí retro přístroje'}, 'links': [{'rel': 'alternate', 'type': 'text/html', 'href': 'https://www.idnes.cz/zlin/zpravy/noc-vedcu-utb-zlin-rozhovor-vedec-pata-veda-je-dobrodruzstvi.A231004_752307_zlin-zpravy_jfuk#utm_source=rss&utm_medium=feed&utm_campaign=technet&utm_content=main'}], 'link': 'https://www.idnes.cz/zlin/zpravy/noc-vedcu-utb-zlin-rozhovor-vedec-pata-veda-je-dobrodruzstvi.A231004_752307_zlin-zpravy_jfuk#utm_source=rss&utm_medium=feed&utm_campaign=technet&utm_content=main', 'summary': 'Během páteční Noci vědců otevře návštěvníkům svoji Tajemnou laboratoř plnou vzácných historických přístrojů. Profesor Vladimír Pata, který působí na Ústavu výrobního inženýrství Fakulty technologické Univerzity Tomáše Bati ve Zlíně, o nich umí poutavě vyprávět.', 'summary_detail': {'type': 'text/html', 'language': None, 'base': 'https://servis.idnes.cz/rss.aspx?c=technet', 'value': 'Během páteční Noci vědců otevře návštěvníkům svoji Tajemnou laboratoř plnou vzácných historických přístrojů. Profesor Vladimír Pata, který působí na Ústavu výrobního inženýrství Fakulty technologické Univerzity Tomáše Bati ve Zlíně, o nich umí poutavě vyprávět.'}, 'published': 'Wed, 04 Oct 2023 14:27:00 GMT', 'published_parsed': time.struct_time(tm_year=2023, tm_mon=10, tm_mday=4, tm_hour=14, tm_min=27, tm_sec=0, tm_wday=2, tm_yday=277, tm_isdst=0), 'tags': [{'term': 'Zlín - Zlín - zprávy', 'scheme': 'https://zlin.idnes.cz/zlin-zpravy.aspx', 'label': None}], 'comments': 'https://www.idnes.cz/zlin/zpravy/noc-vedcu-utb-zlin-rozhovor-vedec-pata-veda-je-dobrodruzstvi.A231004_752307_zlin-zpravy_jfuk/diskuse', 'id': 'A231004_752307_zlin-zpravy_jfuk', 'guidislink': False, 'media_content': [{'url': 'https://1gr.cz/fotky/idnes/23/101/cl6/JFU4d5c3b848f_170654_1229144.jpg', 'type': 'image/jpeg'}], 'content': [{'type': 'text/plain', 'language': None, 'base': 'https://servis.idnes.cz/rss.aspx?c=technet', 'value': 'Profesor Vladimír Pata působí na Ústavu výrobního inženýrství Fakulty technologické Univerzity Tomáše Bati. (říjen 2023)'}], 'media_credit': [{'content': 'MAFRA'}], 'credit': 'MAFRA'}, {'title': 'Nobelova cena za chemii byla udělena objevu kvantových teček', 'title_detail': {'type': 'text/plain', 'language': None, 'base': 'https://servis.idnes.cz/rss.aspx?c=technet', 'value': 'Nobelova cena za chemii byla udělena objevu kvantových teček'}, 'links': [{'rel': 'alternate', 'type': 'text/html', 'href': 'https://www.idnes.cz/technet/veda/nobelovy-ceny-chemie-2023.A231004_100046_veda_vse#utm_source=rss&utm_medium=feed&utm_campaign=technet&utm_content=main'}], 'link': 'https://www.idnes.cz/technet/veda/nobelovy-ceny-chemie-2023.A231004_100046_veda_vse#utm_source=rss&utm_medium=feed&utm_campaign=technet&utm_content=main', 'summary': 'Královská švédská akademie věd ve středu krátce před polednem oznámila laureáty Nobelovy ceny za chemii pro rok 2023. Poprvé jí informace předčasně unikla a tak se již od dopoledne ví, že cena byla udělena za objev a syntézu kvantových teček.', 'summary_detail': {'type': 'text/html', 'language': None, 'base': 'https://servis.idnes.cz/rss.aspx?c=technet', 'value': 'Královská švédská akademie věd ve středu krátce před polednem oznámila laureáty Nobelovy ceny za chemii pro rok 2023. Poprvé jí informace předčasně unikla a tak se již od dopoledne ví, že cena byla udělena za objev a syntézu kvantových teček.'}, 'published': 'Wed, 04 Oct 2023 10:04:58 GMT', 'published_parsed': time.struct_time(tm_year=2023, tm_mon=10, tm_mday=4, tm_hour=10, tm_min=4, tm_sec=58, tm_wday=2, tm_yday=277, tm_isdst=0), 'tags': [{'term': 'Technet - Věda', 'scheme': 'https://technet.idnes.cz/veda.aspx', 'label': None}], 'comments': 'https://www.idnes.cz/technet/veda/nobelovy-ceny-chemie-2023.A231004_100046_veda_vse/diskuse', 'id': 'A231004_100046_veda_vse', 'guidislink': False, 'media_content': [{'url': 'https://1gr.cz/fotky/idnes/23/101/cl6/ALV632a45f889_chem.jpg', 'type': 'image/jpeg'}], 'content': [{'type': 'text/plain', 'language': None, 'base': 'https://servis.idnes.cz/rss.aspx?c=technet', 'value': 'Nobelovu cenu za Chemii pro rok 2023 získali Moungi G.Bawendi, Louis E. Brus a Alexej I. Ekimov za objev a vývoj kvantových teček, nanočástic, které jsou tak malé, že jejich velikost určuje jejich vlastnosti.'}], 'media_credit': [{'content': 'www.nobelprize.org'}], 'credit': 'www.nobelprize.org'}, {'title': 'Dávejte pozor, s kým se párujete přes Bluetooth, upozorňuje kyberexpert', 'title_detail': {'type': 'text/plain', 'language': None, 'base': 'https://servis.idnes.cz/rss.aspx?c=technet', 'value': 'Dávejte pozor, s kým se párujete přes Bluetooth, upozorňuje kyberexpert'}, 'links': [{'rel': 'alternate', 'type': 'text/html', 'href': 'https://www.idnes.cz/technet/software/hackeri-elen-cerna-pavel-rivola-kyberbezpecnost-rozstrel-internet.A231002_095221_software_mase#utm_source=rss&utm_medium=feed&utm_campaign=technet&utm_content=main'}], 'link': 'https://www.idnes.cz/technet/software/hackeri-elen-cerna-pavel-rivola-kyberbezpecnost-rozstrel-internet.A231002_095221_software_mase#utm_source=rss&utm_medium=feed&utm_campaign=technet&utm_content=main', 'summary': '„Hackeři, to je dnes celý sofistikovaný obor,“ říká v\\xa0Rozstřelu Pavel Rivola, ředitel bezpečnosti v telekomunikační společnosti CETIN. „Nejdřív si o vás zjistí co možná nejvíc informací ve veřejných zdrojích, jako je Facebook či LinkedIn, podívají se na dark web, jestli se k\\xa0vaší osobě nevztahují nějaké uniklé přihlašovací údaje, a když si udělají váš profil, rozehrají svou hru.“', 'summary_detail': {'type': 'text/html', 'language': None, 'base': 'https://servis.idnes.cz/rss.aspx?c=technet', 'value': '„Hackeři, to je dnes celý sofistikovaný obor,“ říká v\\xa0Rozstřelu Pavel Rivola, ředitel bezpečnosti v telekomunikační společnosti CETIN. „Nejdřív si o vás zjistí co možná nejvíc informací ve veřejných zdrojích, jako je Facebook či LinkedIn, podívají se na dark web, jestli se k\\xa0vaší osobě nevztahují nějaké uniklé přihlašovací údaje, a když si udělají váš profil, rozehrají svou hru.“'}, 'published': 'Wed, 04 Oct 2023 09:00:00 GMT', 'published_parsed': time.struct_time(tm_year=2023, tm_mon=10, tm_mday=4, tm_hour=9, tm_min=0, tm_sec=0, tm_wday=2, tm_yday=277, tm_isdst=0), 'tags': [{'term': 'Technet - Software', 'scheme': 'https://technet.idnes.cz/software.aspx', 'label': None}], 'comments': 'https://www.idnes.cz/technet/software/hackeri-elen-cerna-pavel-rivola-kyberbezpecnost-rozstrel-internet.A231002_095221_software_mase/diskuse', 'id': 'A231002_095221_software_mase', 'guidislink': False, 'media_content': [{'url': 'https://1gr.cz/fotky/idnes/23/093/cl6/DAV4be8261094_090109_20202323.jpg', 'type': 'image/jpeg'}], 'content': [{'type': 'text/plain', 'language': None, 'base': 'https://servis.idnes.cz/rss.aspx?c=technet', 'value': 'Hostem pořadu Rozstřel je Pavel Rivola, expert na kyberbezpečnost.'}], 'media_credit': [{'content': 'MAFRA'}], 'credit': 'MAFRA'}, {'title': 'OBRAZEM: Podívejte se na tipy čtenářů, kam vyrazit za technickou zajímavostí', 'title_detail': {'type': 'text/plain', 'language': None, 'base': 'https://servis.idnes.cz/rss.aspx?c=technet', 'value': 'OBRAZEM: Podívejte se na tipy čtenářů, kam vyrazit za technickou zajímavostí'}, 'links': [{'rel': 'alternate', 'type': 'text/html', 'href': 'https://www.idnes.cz/technet/technika/tip-technicka-zajimavost.A231002_134459_tec_technika_alv/foto#utm_source=rss&utm_medium=feed&utm_campaign=technet&utm_content=main'}], 'link': 'https://www.idnes.cz/technet/technika/tip-technicka-zajimavost.A231002_134459_tec_technika_alv/foto#utm_source=rss&utm_medium=feed&utm_campaign=technet&utm_content=main', 'summary': 'Celé léto jste nám mohli do redakce Technetu posílat tipy na výlet za technickou památkou či zajímavostí. Některé z vámi zaslaných příspěvků si nyní můžete prohlédnout a třeba se inspirovat k podzimnímu výletu.', 'summary_detail': {'type': 'text/html', 'language': None, 'base': 'https://servis.idnes.cz/rss.aspx?c=technet', 'value': 'Celé léto jste nám mohli do redakce Technetu posílat tipy na výlet za technickou památkou či zajímavostí. Některé z vámi zaslaných příspěvků si nyní můžete prohlédnout a třeba se inspirovat k podzimnímu výletu.'}, 'published': 'Tue, 03 Oct 2023 22:00:00 GMT', 'published_parsed': time.struct_time(tm_year=2023, tm_mon=10, tm_mday=3, tm_hour=22, tm_min=0, tm_sec=0, tm_wday=1, tm_yday=276, tm_isdst=0), 'tags': [{'term': 'Technet - Technika', 'scheme': 'https://technet.idnes.cz/tec_technika.aspx', 'label': None}], 'comments': 'https://www.idnes.cz/technet/technika/tip-technicka-zajimavost.A231002_134459_tec_technika_alv/diskuse', 'id': 'A231002_134459_tec_technika_alv', 'guidislink': False, 'media_content': [{'url': 'https://1gr.cz/fotky/idnes/23/101/cl6/KIT729eec75d1_1h8ewk_IMG_9077.jpeg', 'type': 'image/jpeg'}, {'url': 'https://1gr.cz/fotky/idnes/23/101/cl6/KIT79fd0b015f_4gvfkn_vep.jpg', 'type': 'image/jpeg'}, {'url': 'https://1gr.cz/fotky/idnes/23/101/cl6/KIT5c74db5222_11ofmi_0200_DSCF5430.jpg', 'type': 'image/jpeg'}], 'content': [{'type': 'text/plain', 'language': None, 'base': 'https://servis.idnes.cz/rss.aspx?c=technet', 'value': 'Výklopník je ojedinělá technická památka, která sloužila k překládání lignitového uhlí z Ratíškovic, přepravovaného v železničních vagónech. Systém ve výklopníku vyzvedl celý naložený vagón a pomocí kolébky ho vyklopil do lodě. Překladiště sloužilo v letech 1938–1945.'}], 'media_credit': [{'content': 'Petr Šimek'}], 'credit': 'Petr Šimek'}, {'title': 'Francouzský tank překvapil Němce. Protitankové střely do něj marně bubnovaly', 'title_detail': {'type': 'text/plain', 'language': None, 'base': 'https://servis.idnes.cz/rss.aspx?c=technet', 'value': 'Francouzský tank překvapil Němce. Protitankové střely do něj marně bubnovaly'}, 'links': [{'rel': 'alternate', 'type': 'text/html', 'href': 'https://www.idnes.cz/technet/vojenstvi/francouzsky-tank-char-b1-bis-svetova-valka.A231001_163836_vojenstvi_erp#utm_source=rss&utm_medium=feed&utm_campaign=technet&utm_content=main'}], 'link': 'https://www.idnes.cz/technet/vojenstvi/francouzsky-tank-char-b1-bis-svetova-valka.A231001_163836_vojenstvi_erp#utm_source=rss&utm_medium=feed&utm_campaign=technet&utm_content=main', 'summary': 'První světová válka prokázala užitečnost tanků. Poválečný vývoj se ubíral různými cestami a\\xa0hledání koncepce tanku, tak jak ji známe dnes, bylo komplikované. Některé tanky na začátku druhého světového konfliktu vypadaly poněkud zvláštně. Jedním z\\xa0nich byl francouzský Char B1.', 'summary_detail': {'type': 'text/html', 'language': None, 'base': 'https://servis.idnes.cz/rss.aspx?c=technet', 'value': 'První světová válka prokázala užitečnost tanků. Poválečný vývoj se ubíral různými cestami a\\xa0hledání koncepce tanku, tak jak ji známe dnes, bylo komplikované. Některé tanky na začátku druhého světového konfliktu vypadaly poněkud zvláštně. Jedním z\\xa0nich byl francouzský Char B1.'}, 'published': 'Tue, 03 Oct 2023 22:00:00 GMT', 'published_parsed': time.struct_time(tm_year=2023, tm_mon=10, tm_mday=3, tm_hour=22, tm_min=0, tm_sec=0, tm_wday=1, tm_yday=276, tm_isdst=0), 'tags': [{'term': 'Technet - Vojenství', 'scheme': 'https://technet.idnes.cz/vojenstvi.aspx', 'label': None}], 'comments': 'https://www.idnes.cz/technet/vojenstvi/francouzsky-tank-char-b1-bis-svetova-valka.A231001_163836_vojenstvi_erp/diskuse', 'id': 'A231001_163836_vojenstvi_erp', 'guidislink': False, 'media_content': [{'url': 'https://1gr.cz/fotky/idnes/23/101/cl6/ERP8ae890ef2c_Char_B1bis.jpg', 'type': 'image/jpeg'}, {'url': 'https://1gr.cz/fotky/idnes/23/101/cl6/ERP95340c7454_002.jpg', 'type': 'image/jpeg'}, {'url': 'https://1gr.cz/fotky/idnes/23/101/cl6/ERP95c5daee9a_005.jpg', 'type': 'image/jpeg'}], 'content': [{'type': 'text/plain', 'language': None, 'base': 'https://servis.idnes.cz/rss.aspx?c=technet', 'value': 'Char B1 bis v tankovém muzeu ve Francii'}], 'media_credit': [{'content': 'The shadock, CC BY-SA 3.0'}], 'credit': 'The shadock, CC BY-SA 3.0'}, {'title': 'Nobelovu cenu za fyziku získala možnost sledovat attosekundové procesy', 'title_detail': {'type': 'text/plain', 'language': None, 'base': 'https://servis.idnes.cz/rss.aspx?c=technet', 'value': 'Nobelovu cenu za fyziku získala možnost sledovat attosekundové procesy'}, 'links': [{'rel': 'alternate', 'type': 'text/html', 'href': 'https://www.idnes.cz/technet/veda/nobelova-cena-2023-fyzika-oceneni-castice.A231003_091639_veda_vse#utm_source=rss&utm_medium=feed&utm_campaign=technet&utm_content=main'}], 'link': 'https://www.idnes.cz/technet/veda/nobelova-cena-2023-fyzika-oceneni-castice.A231003_091639_veda_vse#utm_source=rss&utm_medium=feed&utm_campaign=technet&utm_content=main', 'summary': 'Úterní program vyhlašování Nobelových cen se tradičně věnuje fyzice. Loni se laureáty stali tři vědci za popis kvantové provázanosti. Letos se ocenění dostalo zkoumání  světa elektronů uvnitř atomů a molekul.', 'summary_detail': {'type': 'text/html', 'language': None, 'base': 'https://servis.idnes.cz/rss.aspx?c=technet', 'value': 'Úterní program vyhlašování Nobelových cen se tradičně věnuje fyzice. Loni se laureáty stali tři vědci za popis kvantové provázanosti. Letos se ocenění dostalo zkoumání  světa elektronů uvnitř atomů a molekul.'}, 'published': 'Tue, 03 Oct 2023 10:22:00 GMT', 'published_parsed': time.struct_time(tm_year=2023, tm_mon=10, tm_mday=3, tm_hour=10, tm_min=22, tm_sec=0, tm_wday=1, tm_yday=276, tm_isdst=0), 'tags': [{'term': 'Technet - Věda', 'scheme': 'https://technet.idnes.cz/veda.aspx', 'label': None}], 'comments': 'https://www.idnes.cz/technet/veda/nobelova-cena-2023-fyzika-oceneni-castice.A231003_091639_veda_vse/diskuse', 'id': 'A231003_091639_veda_vse', 'guidislink': False, 'media_content': [{'url': 'https://1gr.cz/fotky/idnes/23/101/cl6/ALV6368ddff1c_fyz.jpg', 'type': 'image/jpeg'}, {'url': 'https://1gr.cz/fotky/idnes/23/101/cl6/ALV66ac2f88a9_fyz5.jpg', 'type': 'image/jpeg'}, {'url': 'https://1gr.cz/fotky/idnes/22/101/cl6/DTT9685d1_p2022100302222.jpg', 'type': 'image/jpeg'}], 'content': [{'type': 'text/plain', 'language': None, 'base': 'https://servis.idnes.cz/rss.aspx?c=technet', 'value': 'ilustrační snímek'}], 'media_credit': [{'content': 'www.nobelprize.org'}], 'credit': 'www.nobelprize.org'}, {'title': 'Momentky z historie internetu, na které bychom neměli zapomenout', 'title_detail': {'type': 'text/plain', 'language': None, 'base': 'https://servis.idnes.cz/rss.aspx?c=technet', 'value': 'Momentky z historie internetu, na které bychom neměli zapomenout'}, 'links': [{'rel': 'alternate', 'type': 'text/html', 'href': 'https://www.idnes.cz/technet/software/internet-historie-arpanet-ftp-wi-fi-emotikony-interconnected-networks.A230927_133310_software_dvr#utm_source=rss&utm_medium=feed&utm_campaign=technet&utm_content=main'}], 'link': 'https://www.idnes.cz/technet/software/internet-historie-arpanet-ftp-wi-fi-emotikony-interconnected-networks.A230927_133310_software_dvr#utm_source=rss&utm_medium=feed&utm_campaign=technet&utm_content=main', 'summary': 'Dnešní svět si nelze představit bez internetu. Je to síť, která spojuje lidi, umožňuje komunikaci, nakupování, zábavu a poskytuje přístup k nekonečnému množství informací. Připomeňme si některé události vzniku a rozvoje internetu.', 'summary_detail': {'type': 'text/html', 'language': None, 'base': 'https://servis.idnes.cz/rss.aspx?c=technet', 'value': 'Dnešní svět si nelze představit bez internetu. Je to síť, která spojuje lidi, umožňuje komunikaci, nakupování, zábavu a poskytuje přístup k nekonečnému množství informací. Připomeňme si některé události vzniku a rozvoje internetu.'}, 'published': 'Mon, 02 Oct 2023 22:00:00 GMT', 'published_parsed': time.struct_time(tm_year=2023, tm_mon=10, tm_mday=2, tm_hour=22, tm_min=0, tm_sec=0, tm_wday=0, tm_yday=275, tm_isdst=0), 'tags': [{'term': 'Technet - Software', 'scheme': 'https://technet.idnes.cz/software.aspx', 'label': None}], 'comments': 'https://www.idnes.cz/technet/software/internet-historie-arpanet-ftp-wi-fi-emotikony-interconnected-networks.A230927_133310_software_dvr/diskuse', 'id': 'A230927_133310_software_dvr', 'guidislink': False, 'media_content': [{'url': 'https://1gr.cz/fotky/idnes/22/011/cl6/DVR9090e3_Edge_FeatureHeader_Edge_1920.jpg', 'type': 'image/jpeg'}], 'content': [{'type': 'text/plain', 'language': None, 'base': 'https://servis.idnes.cz/rss.aspx?c=technet', 'value': 'Ilustrace - Microsoft Edge'}], 'media_credit': [{'content': 'Creative Commons'}], 'credit': 'Creative Commons'}, {'title': 'V USA padla první pokuta za vesmírný odpad, firma nesprávně vyřadila družici', 'title_detail': {'type': 'text/plain', 'language': None, 'base': 'https://servis.idnes.cz/rss.aspx?c=technet', 'value': 'V USA padla první pokuta za vesmírný odpad, firma nesprávně vyřadila družici'}, 'links': [{'rel': 'alternate', 'type': 'text/html', 'href': 'https://www.idnes.cz/technet/vesmir/vesmir-pokuta-usa-dish-satelit.A231002_222059_tec_vesmir_kot#utm_source=rss&utm_medium=feed&utm_campaign=technet&utm_content=main'}], 'link': 'https://www.idnes.cz/technet/vesmir/vesmir-pokuta-usa-dish-satelit.A231002_222059_tec_vesmir_kot#utm_source=rss&utm_medium=feed&utm_campaign=technet&utm_content=main', 'summary': 'Americká Federální komise pro spoje (FCC) poprvé oznámila pokutu udělenou za incident spojený s vesmírným odpadem. Dostal ji poskytovatel satelitní televize a internetu DISH, který nesprávně vyřadil z provozu svou družici EchoStar-7. Zaplatit má 150 tisíc dolarů (skoro 3,5 milionu korun).', 'summary_detail': {'type': 'text/html', 'language': None, 'base': 'https://servis.idnes.cz/rss.aspx?c=technet', 'value': 'Americká Federální komise pro spoje (FCC) poprvé oznámila pokutu udělenou za incident spojený s vesmírným odpadem. Dostal ji poskytovatel satelitní televize a internetu DISH, který nesprávně vyřadil z provozu svou družici EchoStar-7. Zaplatit má 150 tisíc dolarů (skoro 3,5 milionu korun).'}, 'published': 'Mon, 02 Oct 2023 20:26:00 GMT', 'published_parsed': time.struct_time(tm_year=2023, tm_mon=10, tm_mday=2, tm_hour=20, tm_min=26, tm_sec=0, tm_wday=0, tm_yday=275, tm_isdst=0), 'tags': [{'term': 'Technet - Vesmír', 'scheme': 'https://technet.idnes.cz/tec_vesmir.aspx', 'label': None}], 'comments': 'https://www.idnes.cz/technet/vesmir/vesmir-pokuta-usa-dish-satelit.A231002_222059_tec_vesmir_kot/diskuse', 'id': 'A231002_222059_tec_vesmir_kot', 'guidislink': False, 'media_content': [{'url': 'https://1gr.cz/fotky/idnes/22/012/cl6/LUH90c49a_profimedia_0588302932.jpg', 'type': 'image/jpeg'}], 'content': [{'type': 'text/plain', 'language': None, 'base': 'https://servis.idnes.cz/rss.aspx?c=technet', 'value': 'ilustrační snímek'}], 'media_credit': [{'content': 'Profimedia.cz'}], 'credit': 'Profimedia.cz'}, {'title': 'Google u soudu: Platí za vyhledávač miliardy výrobcům? A je snadné ho změnit?', 'title_detail': {'type': 'text/plain', 'language': None, 'base': 'https://servis.idnes.cz/rss.aspx?c=technet', 'value': 'Google u soudu: Platí za vyhledávač miliardy výrobcům? A je snadné ho změnit?'}, 'links': [{'rel': 'alternate', 'type': 'text/html', 'href': 'https://www.idnes.cz/technet/software/google-vyhledavac-microsoft-satya-nadella-soud-usa-ministerstvo-spravedlnosti.A231002_210944_software_kot#utm_source=rss&utm_medium=feed&utm_campaign=technet&utm_content=main'}], 'link': 'https://www.idnes.cz/technet/software/google-vyhledavac-microsoft-satya-nadella-soud-usa-ministerstvo-spravedlnosti.A231002_210944_software_kot#utm_source=rss&utm_medium=feed&utm_campaign=technet&utm_content=main', 'summary': 'Tvrzení Googlu, že změna základního nastavení počítačů a chytrých telefonů je snadná, není pravdivé, prohlásil šéf Microsoftu Satya Nadella. Vypovídal jako svědek u antimonopolního soudního sporu, který proti internetovému gigantu vede americké ministerstvo spravedlnosti.', 'summary_detail': {'type': 'text/html', 'language': None, 'base': 'https://servis.idnes.cz/rss.aspx?c=technet', 'value': 'Tvrzení Googlu, že změna základního nastavení počítačů a chytrých telefonů je snadná, není pravdivé, prohlásil šéf Microsoftu Satya Nadella. Vypovídal jako svědek u antimonopolního soudního sporu, který proti internetovému gigantu vede americké ministerstvo spravedlnosti.'}, 'published': 'Mon, 02 Oct 2023 19:16:00 GMT', 'published_parsed': time.struct_time(tm_year=2023, tm_mon=10, tm_mday=2, tm_hour=19, tm_min=16, tm_sec=0, tm_wday=0, tm_yday=275, tm_isdst=0), 'tags': [{'term': 'Technet - Software', 'scheme': 'https://technet.idnes.cz/software.aspx', 'label': None}], 'comments': 'https://www.idnes.cz/technet/software/google-vyhledavac-microsoft-satya-nadella-soud-usa-ministerstvo-spravedlnosti.A231002_210944_software_kot/diskuse', 'id': 'A231002_210944_software_kot', 'guidislink': False, 'media_content': [{'url': 'https://1gr.cz/fotky/idnes/23/101/cl6/KOTb1b928b154_11TRUST_GOOGLE_MICROSOFT.JPG', 'type': 'image/jpeg'}], 'content': [{'type': 'text/plain', 'language': None, 'base': 'https://servis.idnes.cz/rss.aspx?c=technet', 'value': 'Šéf Microsoftu Satya Nadella přijíždí k soudu v San Franciscu vypovídat jako svědek ve sporu amerického ministerstva spravedlnosti proti firmě Google (28. října 2023)'}], 'media_credit': [{'content': 'Reuters'}], 'credit': 'Reuters'}], 'feed': {'links': [{'href': 'https://servis.idnes.cz/rss.aspx?c=technet', 'rel': 'self', 'type': 'application/rss+xml'}, {'rel': 'alternate', 'type': 'text/html', 'href': 'https://www.idnes.cz/technet'}], 'title': 'Technet.cz - Technika kolem nás', 'title_detail': {'type': 'text/plain', 'language': None, 'base': 'https://servis.idnes.cz/rss.aspx?c=technet', 'value': 'Technet.cz - Technika kolem nás'}, 'link': 'https://www.idnes.cz/technet', 'subtitle': 'Vše co vás zajímá o internetu, digitální televizi, MP3, počítačích, fotografování a DVD. Recenze, návody, testy, reportáže z technicky zajímavých míst, katalog foťáků a další čtení o technice kolem nás', 'subtitle_detail': {'type': 'text/html', 'language': None, 'base': 'https://servis.idnes.cz/rss.aspx?c=technet', 'value': 'Vše co vás zajímá o internetu, digitální televizi, MP3, počítačích, fotografování a DVD. Recenze, návody, testy, reportáže z technicky zajímavých míst, katalog foťáků a další čtení o technice kolem nás'}, 'language': 'cs', 'publisher': 'webmaster@idnes.cz (Webmaster iDNES.cz)', 'publisher_detail': {'name': 'Webmaster iDNES.cz', 'email': 'webmaster@idnes.cz'}, 'authors': [{'name': 'Managing Editor iDNES.cz', 'email': 'idnes@idnes.cz'}], 'author': 'idnes@idnes.cz (Managing Editor iDNES.cz)', 'author_detail': {'name': 'Managing Editor iDNES.cz', 'email': 'idnes@idnes.cz'}, 'rights': '© Copyright MAFRA a.s. 1998 - 2023', 'rights_detail': {'type': 'text/plain', 'language': None, 'base': 'https://servis.idnes.cz/rss.aspx?c=technet', 'value': '© Copyright MAFRA a.s. 1998 - 2023'}, 'published': 'Thu, 12 Oct 2023 14:04:30 GMT', 'published_parsed': time.struct_time(tm_year=2023, tm_mon=10, tm_mday=12, tm_hour=14, tm_min=4, tm_sec=30, tm_wday=3, tm_yday=285, tm_isdst=0), 'updated': 'Thu, 12 Oct 2023 14:04:30 GMT', 'updated_parsed': time.struct_time(tm_year=2023, tm_mon=10, tm_mday=12, tm_hour=14, tm_min=4, tm_sec=30, tm_wday=3, tm_yday=285, tm_isdst=0), 'image': {'title': 'iDNES.cz', 'title_detail': {'type': 'text/plain', 'language': None, 'base': 'https://servis.idnes.cz/rss.aspx?c=technet', 'value': 'iDNES.cz'}, 'href': 'https://1gr.cz/u/loga-n4/idnes.gif', 'links': [{'rel': 'alternate', 'type': 'text/html', 'href': 'http://www.idnes.cz/'}], 'link': 'http://www.idnes.cz/'}, 'ttl': '2'}, 'headers': {'cache-control': 'private,max-age=0', 'content-type': 'text/xml; charset=utf-8', 'content-encoding': 'gzip', 'expires': 'Wed, 01 Jan 1997 12:00:00 GMT', 'vary': 'Accept-Encoding', 'server': 'Microsoft-IIS/10.0', 'set-cookie': '_webid=2.11de9cf910.1697126773.1697126773; domain=.idnes.cz; expires=Fri, 11-Oct-2024 22:00:00 GMT; path=/; secure; SameSite=None', 'x-aspnet-version': '4.0.30319', 'x-powered-by': 'iDNES iweb48', 'date': 'Thu, 12 Oct 2023 14:06:13 GMT', 'connection': 'close', 'content-length': '15102'}, 'href': 'https://servis.idnes.cz/rss.aspx?c=technet', 'status': 200, 'encoding': 'utf-8', 'version': 'rss20', 'namespaces': {'media': 'http://search.yahoo.com/mrss/', '': 'http://www.w3.org/2005/Atom'}}\n"
          ]
        }
      ],
      "source": [
        "import feedparser\n",
        "\n",
        "# Nahraďte 'rss_url' URL vašeho RSS feedu\n",
        "rss_url = 'https://servis.idnes.cz/rss.aspx?c=technet'\n",
        "feed = feedparser.parse(rss_url)\n",
        "\n",
        "print(feed)"
      ]
    },
    {
      "cell_type": "markdown",
      "metadata": {
        "id": "xOiesMNyc8A6"
      },
      "source": [
        "## Vytvoření vlastního profilu\n",
        "\n",
        "Vlastní profil je možné vytvořit v libovolné srozumitelné formě."
      ]
    },
    {
      "cell_type": "code",
      "execution_count": 25,
      "metadata": {
        "id": "Rmoyz0uidJCe"
      },
      "outputs": [],
      "source": [
        "profile = \"\"\"\n",
        "Obsah: Zajímá mě jedno z následujících témat:\n",
        "* umělá inteligence\n",
        "* programování v jednom z jazyků Python, Golang, C# nebo frontendový vývoj v Typescript - React a Angular\n",
        "* hardwarové technologické novinky\n",
        "* softwaré novinky, případně novinky v nových verzích existujícího softwaru\n",
        "\"\"\".strip()\n"
      ]
    },
    {
      "cell_type": "markdown",
      "metadata": {
        "id": "0Vh9yopkeo_g"
      },
      "source": [
        "# Analýza Článků"
      ]
    },
    {
      "cell_type": "code",
      "execution_count": 33,
      "metadata": {
        "colab": {
          "base_uri": "https://localhost:8080/"
        },
        "id": "FbZkWHxaeoSJ",
        "outputId": "e3226123-9965-421b-e4ce-22f5dddbcb45"
      },
      "outputs": [
        {
          "name": "stdout",
          "output_type": "stream",
          "text": [
            "{'odpoved': 'ne', 'duvod': 'tento článek se neodkazuje na žádné z tvých zájmů. hovoří o využití počítačového rozhraní, což je hlavně ovládnutí uživatelského rozhraní a nezabývá se žádným konkrétním tématem, které tě zajímá.'}\n",
            "nedoporučený článke: KVÍZ: Umíte využít počítačové rozhraní na maximum?\n",
            "{'odpoved': 'ne', 'duvod': 'článek se týká historické události a nemá souvislost s umělou inteligencí, programováním, hardwarovými nebo softwarovými novinkami, které tě zajímají.'}\n",
            "nedoporučený článke: První vzdušná vítězství izraelského letectva vybojovala československá stíhačka\n",
            "{'odpoved': 'ne', 'duvod': 'článek se zabývá tématem leteckého závodu, které není v souladu s tvými zájmy v programování a technologickém pokroku.'}\n",
            "nedoporučený článke: Nejstarší letecký závod světa má vítěze. Vyhráli francouzští vzduchoplavci\n",
            "{'odpoved': 'ne', 'duvod': 'článek se zabývá výzkumem kosmických vzorků z planetky bennu, což se nijak nesouvisej s tvými zájmy o umělou inteligenci, programování nebo technologické novinky.'}\n",
            "nedoporučený článke: Jako černé uhlí s hojným obsahem vody. NASA odhalila vzorky z planetky Bennu\n",
            "{'odpoved': 'ne', 'duvod': 'článek se zaměřuje na aktualizaci operačního systému windows 11, což není v mé oblasti zájmu.'}\n",
            "nedoporučený článke: Nový update Windows 11 přinese mimo jiné žádanou funkci hlavního panelu\n",
            "{'odpoved': 'ne', 'duvod': 'článek se zaměřuje na otázku získání pilotního diplomu číňanem a ekvádorcem v české republice, což se vztažuje k pilotnímu výcviku a celkovému leteckému průmyslu, což neodpovídá zájmům uvedeným ve tvém profilu.'}\n",
            "nedoporučený článke: „Exoti“ v rejstříku letců. Pilotní diplom získali v ČSR i Číňan a Ekvádorec\n",
            "{'odpoved': 'ne', 'duvod': 'článek se zabývá jiným tématem než umělou inteligencí, programováním, hardwarovými nebo softwarovými novinkami.'}\n",
            "nedoporučený článke: Polský vodíkový balon vlétl do drátů vysokého napětí. Slavný závod pokračuje\n",
            "{'odpoved': 'ne', 'duvod': 'tento článek se nezabývá žádným z mých zájmových témat. je to spíše politický článek, který se zaměřuje na jednu konkrétní událost.'}\n",
            "nedoporučený článke: Musk doporučil při konfliktu v Izraeli sledovat toxické účty. Pak to smazal\n",
            "{'odpoved': 'ano', 'duvod': 'tento článek by tě mohl zajímat, jelikož se jedná o hardwarovou technologickou novinku - brýle od applu, které umějí mnoho zajímavých věcí.'}\n",
            "DOPORUČENÝ ČLÁNEK: https://www.idnes.cz/technet/pc-mac/htc-vive-xr-elite-virtualni-smisena-mixovana-realita-bryle-vr-mr-xr-ar.A231009_122457_hardware_vse#utm_source=rss&utm_medium=feed&utm_campaign=technet&utm_content=main\n",
            "{'odpoved': 'ne', 'duvod': 'článek se zaměřuje na vojenskou technologii, která se nehodí k žádnému z tvých zájmů.'}\n",
            "nedoporučený článke: VIDEO: Naposledy v zahraničí. Co předvedl vrtulník Mi-24 AČR na Slovensku\n"
          ]
        }
      ],
      "source": [
        "import tiktoken\n",
        "import json\n",
        "\n",
        "def send(\n",
        "    system_prompt=None,\n",
        "    user_prompt=None,\n",
        "    chat_model=\"gpt-3.5-turbo\",\n",
        "    model_token_limit=4097,\n",
        "):\n",
        "    tokenizer = tiktoken.encoding_for_model(chat_model)\n",
        "    token_integers_system = tokenizer.encode(system_prompt)\n",
        "    token_integers_user = tokenizer.encode(user_prompt)\n",
        "\n",
        "    completions_token_limit = 500\n",
        "    wrapped_content_token_count = 11 # magická hodnota která vyjádří konstatní navýšení za request. Je to odvozeno od množství zpráv a parametrů, které se v každém requestu posílají\n",
        "    user_token_limit = model_token_limit - len(token_integers_system) - wrapped_content_token_count - completions_token_limit\n",
        "\n",
        "    user_prompt_trimmed = tokenizer.decode(token_integers_user[0:user_token_limit])\n",
        "\n",
        "    response = openai.ChatCompletion.create(\n",
        "        model=chat_model,\n",
        "        messages=[\n",
        "            {\"role\": \"system\", \"content\": system_prompt},\n",
        "            {\"role\": \"user\", \"content\": user_prompt_trimmed},\n",
        "        ],\n",
        "        temperature=1,\n",
        "        max_tokens=completions_token_limit\n",
        "    )\n",
        "\n",
        "    return response\n",
        "\n",
        "def is_article_relevant(article_title, article_description, profile):\n",
        "    prompt = \"\"\"\n",
        "Dám ti můj profil a článek a ty vyhodnotíš, zda mě ten článek bude zajímat. Odpovíš v JSON formátu s následující strukturou: `{{ \"odpoved\": \"<ano nebo ne>\", \"duvod\": \"<krátké vysvětlení, proč mě to má nebo nemá zajímat>\"}}`.\n",
        "Můj profil:\n",
        "```\n",
        "{profile}\n",
        "```\n",
        "\n",
        "Titulek článku: `{title}`\n",
        "\"\"\".format(profile=profile, title=article_title, description=article_description)\n",
        "\n",
        "    response = send(\n",
        "        system_prompt=\"Jsi moje automatická čtečka RSS článků, který vyhodnotí zda je pro mě článek zajímavý.\",\n",
        "        user_prompt=prompt,\n",
        "    )\n",
        "\n",
        "    result = json.loads(response['choices'][0]['message']['content'].strip().lower())\n",
        "    print(result)\n",
        "\n",
        "    if result[\"odpoved\"] == 'ano':\n",
        "      return True\n",
        "\n",
        "    return False\n",
        "\n",
        "# Projděte každý článek ve feedu\n",
        "for entry in feed.entries[0:10]:\n",
        "    article_title = entry.title\n",
        "    article_description = entry.description\n",
        "    if is_article_relevant(article_title, article_description, profile):\n",
        "        print(f\"DOPORUČENÝ ČLÁNEK: {entry.link}\")\n",
        "    else:\n",
        "        print(f\"nedoporučený článek: {article_title}\")"
      ]
    }
  ],
  "metadata": {
    "colab": {
      "provenance": []
    },
    "kernelspec": {
      "display_name": "Python 3",
      "name": "python3"
    },
    "language_info": {
      "name": "python"
    }
  },
  "nbformat": 4,
  "nbformat_minor": 0
}
