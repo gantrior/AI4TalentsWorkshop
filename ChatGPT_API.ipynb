{
  "nbformat": 4,
  "nbformat_minor": 0,
  "metadata": {
    "colab": {
      "provenance": [],
      "authorship_tag": "ABX9TyNrtCdhjFVkoK7fmrm+4hYI",
      "include_colab_link": true
    },
    "kernelspec": {
      "name": "python3",
      "display_name": "Python 3"
    },
    "language_info": {
      "name": "python"
    }
  },
  "cells": [
    {
      "cell_type": "markdown",
      "metadata": {
        "id": "view-in-github",
        "colab_type": "text"
      },
      "source": [
        "<a href=\"https://colab.research.google.com/github/gantrior/AI4TalentsWorkshop/blob/main/ChatGPT_API.ipynb\" target=\"_parent\"><img src=\"https://colab.research.google.com/assets/colab-badge.svg\" alt=\"Open In Colab\"/></a>"
      ]
    },
    {
      "cell_type": "markdown",
      "source": [
        "# ChatGPT API pro vývojáře\n",
        "## Úvod do OpenAI GPT-3.5\n",
        "Vítejte ve workshopu \"ChatGPT API pro vývojáře\"! Dnes se společně podíváme na fascinující svět umělé inteligence (UI) prostřednictvím API OpenAI GPT-3.5. Nejprve si vysvětlíme, co jsou OpenAI a GPT-3.5, a pak se ponoříme do základního pochopení zpracování přirozeného jazyka (NLP).\n",
        "\n",
        "### Co je OpenAI?\n",
        "OpenAI je organizace zaměřená na výzkum a vývoj umělé inteligence. Jejich cílem je zajistit, aby byla umělá obecná inteligence (AGI) - vysoce autonomní systémy, které překonávají lidi ve většině ekonomicky cenných prací - bezpečná a přínosná pro celou lidskou společnost. OpenAI vytváří špičkové modely AI, jako je GPT-3.5, které jsou dostupné vývojářům prostřednictvím jejich API.\n",
        "\n",
        "### Co je GPT-3.5?\n",
        "GPT-3.5, nebo Generative Pre-trained Transformer 3.5, je vylepšenou verzí předchozího modelu GPT-3 od OpenAI. Stejně jako jeho předchůdce je schopen generovat text, který je často nerozeznatelný od toho, který by napsal člověk, ale s vylepšenou přesností a schopností zpracování. GPT-3.5 může být využit k řadě úloh, jako je překlad jazyků, odpovídání na otázky, generování kreativního psaní a mnoho dalších.\n",
        "\n",
        "### Co je zpracování přirozeného jazyka (NLP)?\n",
        "Zpracování přirozeného jazyka je odvětvím informatiky a umělé inteligence, které se zaměřuje na interakci mezi počítači a lidským (přirozeným) jazykem. NLP umožňuje počítačům číst, rozumět a generovat lidský jazyk ve formě, která je hodnotná. Technologie NLP je základem všech systémů, které pracují s lidským jazykem, jako jsou osobní asistenti (např. Siri a Alexa), chatboti a automatické překladové služby.\n",
        "\n",
        "V následující části workshopu si nastavíme prostředí, abychom mohli začít pracovat s API OpenAI GPT-3.5.\n",
        "\n",
        "## Nastavení prostředí\n",
        "V této části workshopu si připravíme prostředí, abychom mohli začít pracovat s API OpenAI GPT-3.5. Nejdříve si nainstalujeme potřebné knihovny, poté nastavíme přístupové údaje pro API OpenAI a nakonec se seznámíme s Jupyter Notebookem.\n",
        "\n",
        "### Instalace potřebných knihoven\n",
        "Pro interakci s API OpenAI budeme potřebovat knihovnu openai. Můžete ji nainstalovat pomocí následujícího příkazu v Jupyter Notebooku:"
      ],
      "metadata": {
        "id": "qXmRbGoRbf--"
      }
    },
    {
      "cell_type": "code",
      "execution_count": null,
      "metadata": {
        "colab": {
          "base_uri": "https://localhost:8080/"
        },
        "id": "M6Lg8_I3bXeC",
        "outputId": "cc8430c2-9edf-4f77-cae8-d137d4f89c93"
      },
      "outputs": [
        {
          "output_type": "stream",
          "name": "stdout",
          "text": [
            "Requirement already satisfied: openai in /usr/local/lib/python3.10/dist-packages (0.28.1)\n",
            "Requirement already satisfied: requests>=2.20 in /usr/local/lib/python3.10/dist-packages (from openai) (2.31.0)\n",
            "Requirement already satisfied: tqdm in /usr/local/lib/python3.10/dist-packages (from openai) (4.66.1)\n",
            "Requirement already satisfied: aiohttp in /usr/local/lib/python3.10/dist-packages (from openai) (3.8.5)\n",
            "Requirement already satisfied: charset-normalizer<4,>=2 in /usr/local/lib/python3.10/dist-packages (from requests>=2.20->openai) (3.3.0)\n",
            "Requirement already satisfied: idna<4,>=2.5 in /usr/local/lib/python3.10/dist-packages (from requests>=2.20->openai) (3.4)\n",
            "Requirement already satisfied: urllib3<3,>=1.21.1 in /usr/local/lib/python3.10/dist-packages (from requests>=2.20->openai) (2.0.6)\n",
            "Requirement already satisfied: certifi>=2017.4.17 in /usr/local/lib/python3.10/dist-packages (from requests>=2.20->openai) (2023.7.22)\n",
            "Requirement already satisfied: attrs>=17.3.0 in /usr/local/lib/python3.10/dist-packages (from aiohttp->openai) (23.1.0)\n",
            "Requirement already satisfied: multidict<7.0,>=4.5 in /usr/local/lib/python3.10/dist-packages (from aiohttp->openai) (6.0.4)\n",
            "Requirement already satisfied: async-timeout<5.0,>=4.0.0a3 in /usr/local/lib/python3.10/dist-packages (from aiohttp->openai) (4.0.3)\n",
            "Requirement already satisfied: yarl<2.0,>=1.0 in /usr/local/lib/python3.10/dist-packages (from aiohttp->openai) (1.9.2)\n",
            "Requirement already satisfied: frozenlist>=1.1.1 in /usr/local/lib/python3.10/dist-packages (from aiohttp->openai) (1.4.0)\n",
            "Requirement already satisfied: aiosignal>=1.1.2 in /usr/local/lib/python3.10/dist-packages (from aiohttp->openai) (1.3.1)\n"
          ]
        }
      ],
      "source": [
        "!pip install openai"
      ]
    },
    {
      "cell_type": "markdown",
      "source": [
        "### Vytvoření API klíče\n",
        "Pro autentizaci vašich požadavků na API OpenAI budete potřebovat API klíč. Postupujte takto:\n",
        "\n",
        "* Přejděte na stránku https://platform.openai.com/account/api-keys.\n",
        "* Pokud nemáte účet OpenAI, vytvořte si jej.\n",
        "* Po přihlášení klikněte na tlačítko pro vytvoření nového API klíče.\n",
        "* Zadejte název pro svůj klíč a klikněte na \"Create new secret key\".\n",
        "\n",
        "Nikdy nesdílejte svůj API klíč s nikým jiným, jak je uvedeno na platformě OpenAI​.\n",
        "\n",
        "### Nastavení přístupových údajů pro API OpenAI\n",
        "Otevřete novou buňku v Jupyter Notebooku a zadejte následující kód, abyste nastavili svůj API klíč:"
      ],
      "metadata": {
        "id": "YpvZ6g-Adg1z"
      }
    },
    {
      "cell_type": "code",
      "source": [
        "import openai\n",
        "\n",
        "# Nahraďte 'sk-abcdefgh1234567890' vaším API klíčem\n",
        "# openai.api_key = 'sk-abcdefgh1234567890'"
      ],
      "metadata": {
        "id": "6XLPTvXaf20Q"
      },
      "execution_count": null,
      "outputs": []
    },
    {
      "cell_type": "markdown",
      "source": [
        "Nyní, když máte připravené prostředí, můžete začít s odesíláním vašich prvních požadavků na ChatGPT prostřednictvím API OpenAI GPT-3.5!"
      ],
      "metadata": {
        "id": "1Nr68Apnf-Xb"
      }
    },
    {
      "cell_type": "markdown",
      "source": [
        "# Co je to Token?\n",
        "\n",
        "Token je jednotka textu, kterou model zpracovává. V kontextu OpenAI modelů, token může být znakem, slovem nebo složeným slovem, v závislosti na jazyce a specifickém textu.\n",
        "\n",
        "Kodování tokenů je proces, kdy je text rozdělen do jednotlivých tokenů, které model může zpracovat. OpenAI používá Byte-Pair-Encoding (BPE) algoritmus pro tokenizaci textu.\n",
        "\n",
        "Pro práci s tokeny OpenAI budete potřebovat knihovnu `tiktoken`.\n",
        "\n"
      ],
      "metadata": {
        "id": "yQhZVBj2rQyx"
      }
    },
    {
      "cell_type": "code",
      "source": [
        "!pip install tiktoken"
      ],
      "metadata": {
        "id": "5_J0Xx7jse9m"
      },
      "execution_count": null,
      "outputs": []
    },
    {
      "cell_type": "markdown",
      "source": [
        "Použijte knihovnu `tiktoken` k zakódování textu do tokenů."
      ],
      "metadata": {
        "id": "e_D2uIPpshpI"
      }
    },
    {
      "cell_type": "code",
      "source": [
        "import tiktoken\n",
        "\n",
        "# Použijte knihovnu tiktoken k zakódování textu do tokenů."
      ],
      "metadata": {
        "id": "CF5kDlmUsvNk"
      },
      "execution_count": null,
      "outputs": []
    },
    {
      "cell_type": "markdown",
      "source": [
        "#Co stojí dotazy na OpenAI API\n",
        "Dotazy na OpenAI API nejsou zadarmo, ale nový uživatelé mají počáteční budget, který je dostatečný na prvotní experimentování. Opecně je cena za vstupní/výstupní tokeny.\n",
        "\n",
        "Model `gpt-3.5-turbo` který budeme dále používat je velmi cenově příznivý. Jeho cena je pro vstupní data `$0.0015/1000` Tokenů a výstupní data `$0.002/1000` Tokenů.\n",
        "\n",
        "Kompletní ceník je dostupný zde: https://openai.com/pricing"
      ],
      "metadata": {
        "id": "n9WUgDj8-kyA"
      }
    },
    {
      "cell_type": "markdown",
      "source": [
        "## Váš první požadavek na ChatGPT\n",
        "V této části uvidíme, jak odeslat základní požadavek na ChatGPT pomocí Pythonu a knihovny openai.\n",
        "\n",
        "### Odeslání základního požadavku\n",
        "Nejdříve importujeme knihovnu `openai`, kterou jsme nainstalovali dříve a výsledek zobrazíme."
      ],
      "metadata": {
        "id": "EO6Q77A7gSIg"
      }
    },
    {
      "cell_type": "code",
      "source": [
        "# Odesláni jednoduchého požadavku s použitím \"gpt-3.5-turbo\" modelu\n"
      ],
      "metadata": {
        "id": "z-bZbApIghX_"
      },
      "execution_count": null,
      "outputs": []
    },
    {
      "cell_type": "markdown",
      "source": [
        "Nyní byste měli vidět přeložený text ve francouzštině: 'Bonjour, comment ça va?'\n",
        "\n",
        "### Porozumění odpovědi\n",
        "* Požadavek na API vrací odpověď ve formátu JSON, který obsahuje několik užitečných informací.\n",
        "* Klíč `choices` obsahuje pole s odpověďmi. Každá odpověď obsahuje textový řetězec, který je výstupem modelu.\n",
        "* Používáme metodu strip() k odstranění přebytečných bílých znaků z výstupu.\n",
        "\n",
        "### Vysvětlení \"role\"\n",
        "Role sděluje modelu, jak by měl obsah zpracovat. Zde je popis rolí:\n",
        "* **user** - informuje model, že následující obsah pochází od uživatele – tj. od osoby, která položila otázku.\n",
        "* **asistent** - informuje model, že obsah byl vygenerován jako reakce na uživatele.\n",
        "* **systém** - zpráva specifikovaná vývojářem k \"nasměrování\" odpovědi modelu. V závislosti na použitém modelu může mít systémová zpráva větší či menší dopad na skutečné odpovědi modelu.\n",
        "\n",
        "### Práce s kontextem konverzace\n",
        "Při práci s ChatGPT je důležité rozumět, jak API zachází s kontextem konverzace. Pokud chcete, aby API mělo v kontextu předchozí odpovědi, musíte poslat celou historii konverzace. Tímto způsobem může model vidět celou konverzaci a odpovědět konzistentně s předchozími zprávami.\n"
      ],
      "metadata": {
        "id": "dPqvtkS-i-sI"
      }
    },
    {
      "cell_type": "code",
      "source": [
        "# Pošlete požadavek s historií konverzace"
      ],
      "metadata": {
        "id": "UaBOYea1qk_1"
      },
      "execution_count": null,
      "outputs": []
    },
    {
      "cell_type": "markdown",
      "source": [
        "V tomto příkladu jsme odeslali čtyři zprávy jako součást požadavku na API: jednu zprávu systému, dvě zprávy uživatele a jednu zprávu asistenta. Poslední zpráva uživatele je nová otázka, na kterou chceme, aby asistent odpověděl. Protože jsme poslali celou historii konverzace, asistent může vidět předchozí otázky a odpovědi, a tak lépe odpovědět na novou otázku.\n",
        "\n",
        "To je vše, co potřebujete k odeslání svého prvního požadavku na ChatGPT a získání odpovědi. Můžete experimentovat s různými texty a pozorovat, jak ChatGPT reaguje."
      ],
      "metadata": {
        "id": "Z9BqufpQqpYS"
      }
    },
    {
      "cell_type": "markdown",
      "source": [
        "## Prozkoumejte API hlouběji\n",
        "V této části se ponoříme hlouběji do možností, které nabízí API OpenAI GPT-3.5. Prozkoumáme některé pokročilejší funkce a ukážeme, jak je lze použít ve vašich projektech.\n",
        "\n",
        "Pokročilé nastavení požadavku\n",
        "### Maximální délka odpovědi\n",
        "Omezte délku odpovědi nastavením parametru max_tokens. To je užitečné pro kontrolu délky výstupního textu."
      ],
      "metadata": {
        "id": "sBbkvYNDr3-d"
      }
    },
    {
      "cell_type": "code",
      "source": [
        "# nastavte v požadavku maximální délku odpovědi"
      ],
      "metadata": {
        "id": "G7NdlHsVsBP0"
      },
      "execution_count": null,
      "outputs": []
    },
    {
      "cell_type": "markdown",
      "source": [
        "## \"Teplota\"\n",
        "Parametr `temperature` ovlivňuje kreativitu odpovědi. Nižší hodnota (např. 0.2) generuje konzistentnější, méně kreativní text, zatímco vyšší hodnota (např. 0.8) generuje více kreativní, ale méně předvídatelný text."
      ],
      "metadata": {
        "id": "JBVWQguesPKN"
      }
    },
    {
      "cell_type": "code",
      "source": [
        "# nastavte `temperature` parameter v požadavku"
      ],
      "metadata": {
        "id": "SS6YNp4LsYld"
      },
      "execution_count": null,
      "outputs": []
    },
    {
      "cell_type": "markdown",
      "source": [
        "### Další parametry\n",
        "Další parametry můžete prozkoumat v dokumentaci: https://platform.openai.com/docs/api-reference/chat/create"
      ],
      "metadata": {
        "id": "OlUk49Fqs6nG"
      }
    },
    {
      "cell_type": "code",
      "source": [
        "# můžete vyzkoušet další jiné parametry"
      ],
      "metadata": {
        "id": "4VMQNvOVs_Es"
      },
      "execution_count": null,
      "outputs": []
    },
    {
      "cell_type": "markdown",
      "source": [
        "## Limitování tokenů v dotazech\n",
        "\n",
        "Vzhledem k tomu, že při volání OpenAI API se platí za tokeny a modely mívají předem definovaný počet tokenů se kterými dokáží naráz pracovat, tak je vhodné vědět jak je v dotazech na API limitovat."
      ],
      "metadata": {
        "id": "Zijruzboul4m"
      }
    },
    {
      "cell_type": "code",
      "source": [
        "# Vyzkoušejte si limitování tokenů"
      ],
      "metadata": {
        "colab": {
          "base_uri": "https://localhost:8080/"
        },
        "id": "iczPXXyAxxTY",
        "outputId": "06ef79a0-11e5-45ab-c395-4e99ec011961"
      },
      "execution_count": null,
      "outputs": [
        {
          "output_type": "stream",
          "name": "stdout",
          "text": [
            "5600\n"
          ]
        },
        {
          "output_type": "execute_result",
          "data": {
            "text/plain": [
              "<OpenAIObject chat.completion id=chatcmpl-88qc17YAJIdTkruVZKhj9MoQkQh7K at 0x78c4f281c950> JSON: {\n",
              "  \"id\": \"chatcmpl-88qc17YAJIdTkruVZKhj9MoQkQh7K\",\n",
              "  \"object\": \"chat.completion\",\n",
              "  \"created\": 1697119557,\n",
              "  \"model\": \"gpt-3.5-turbo-0613\",\n",
              "  \"choices\": [\n",
              "    {\n",
              "      \"index\": 0,\n",
              "      \"message\": {\n",
              "        \"role\": \"assistant\",\n",
              "        \"content\": \"Omlouv\\u00e1m se, ale v\\u00e1\\u0161 dotaz je p\\u0159\\u00edli\\u0161 dlouh\\u00fd a nejsem schopen na n\\u011bj odpov\\u011bd\\u011bt. Mohli byste ho, pros\\u00edm, zkr\\u00e1tit nebo sd\\u011blit konkr\\u00e9tn\\u011bj\\u0161\\u00ed informace?\"\n",
              "      },\n",
              "      \"finish_reason\": \"stop\"\n",
              "    }\n",
              "  ],\n",
              "  \"usage\": {\n",
              "    \"prompt_tokens\": 3597,\n",
              "    \"completion_tokens\": 65,\n",
              "    \"total_tokens\": 3662\n",
              "  }\n",
              "}"
            ]
          },
          "metadata": {},
          "execution_count": 20
        }
      ]
    },
    {
      "cell_type": "markdown",
      "source": [
        "# Ukázkový projekt: Automatická Čtečka RSS\n",
        "V tomto projektu si vytvoříte automatizovanou čtečku RSS, která vám umožní sledovat témata, která vás zajímají, pomocí personalizovaných filtrů. Tato čtečka bude načítat články z RSS feedu, analyzovat je a doporučovat vám články na základě vašich zájmů.\n",
        "\n",
        "## Příprava\n",
        "Nejdříve budete potřebovat knihovnu feedparser pro načítání RSS feedů a tiktoken pro práci s tokeny.\n"
      ],
      "metadata": {
        "id": "ijjd_ln3ZOEO"
      }
    },
    {
      "cell_type": "code",
      "source": [
        "!pip install feedparser tiktoken"
      ],
      "metadata": {
        "id": "kAzo5UvWco0n"
      },
      "execution_count": null,
      "outputs": []
    },
    {
      "cell_type": "markdown",
      "source": [
        "## Načtení RSS Feedu\n",
        "Použijte knihovnu feedparser k načtení RSS feedu z vybraného zdroje."
      ],
      "metadata": {
        "id": "1z4WfY2icvEu"
      }
    },
    {
      "cell_type": "code",
      "source": [
        "import feedparser\n",
        "\n",
        "# Nahraďte 'rss_url' URL vašeho RSS feedu\n",
        "rss_url = 'https://servis.idnes.cz/rss.aspx?c=technet'\n",
        "feed = feedparser.parse(rss_url)\n",
        "\n",
        "print(feed)"
      ],
      "metadata": {
        "id": "MmClx3mfc0iF"
      },
      "execution_count": null,
      "outputs": []
    },
    {
      "cell_type": "markdown",
      "source": [
        "## Vytvoření vlastního profilu\n",
        "\n",
        "Vlastní profil je možné vytvořit v libovolné srozumitelné formě."
      ],
      "metadata": {
        "id": "xOiesMNyc8A6"
      }
    },
    {
      "cell_type": "code",
      "source": [
        "# Vytvořte vlastní profil\n",
        "profile = \"\"\"\n",
        "Obsah: Zajímá mě jedno z následujících témat:\n",
        "* umělá inteligence\n",
        "* programování v jednom z jazyků Python, Golang, C# nebo frontendový vývoj v Typescript - React a Angular\n",
        "* hardwarové technologické novinky\n",
        "* softwaré novinky, případně novinky v nových verzích existujícího softwaru\n",
        "\"\"\".strip()\n"
      ],
      "metadata": {
        "id": "Rmoyz0uidJCe"
      },
      "execution_count": null,
      "outputs": []
    },
    {
      "cell_type": "markdown",
      "source": [
        "# Analýza Článků"
      ],
      "metadata": {
        "id": "0Vh9yopkeo_g"
      }
    },
    {
      "cell_type": "code",
      "source": [
        "import tiktoken\n",
        "import json\n",
        "\n",
        "def send(\n",
        "    system_prompt=None,\n",
        "    user_prompt=None,\n",
        "    chat_model=\"gpt-3.5-turbo\",\n",
        "    model_token_limit=4097,\n",
        "):\n",
        "    tokenizer = tiktoken.encoding_for_model(chat_model)\n",
        "    token_integers_system = tokenizer.encode(system_prompt)\n",
        "    token_integers_user = tokenizer.encode(user_prompt)\n",
        "\n",
        "    completions_token_limit = 500\n",
        "    wrapped_content_token_count = 11 # magická hodnota která vyjádří konstatní navýšení za request. Je to odvozeno od množství zpráv a parametrů, které se v každém requestu posílají\n",
        "    user_token_limit = model_token_limit - len(token_integers_system) - wrapped_content_token_count - completions_token_limit\n",
        "\n",
        "    user_prompt_trimmed = tokenizer.decode(token_integers_user[0:user_token_limit])\n",
        "\n",
        "    response = openai.ChatCompletion.create(\n",
        "        model=chat_model,\n",
        "        messages=[\n",
        "            {\"role\": \"system\", \"content\": system_prompt},\n",
        "            {\"role\": \"user\", \"content\": user_prompt_trimmed},\n",
        "        ],\n",
        "        temperature=1,\n",
        "        max_tokens=completions_token_limit\n",
        "    )\n",
        "\n",
        "    return response\n",
        "\n",
        "def is_article_relevant(article_title, article_description, profile):\n",
        "    # TODO Vyplňte\n",
        "\n",
        "# Projděte 10 článků z feedu\n",
        "for entry in feed.entries[0:10]:\n",
        "    article_title = entry.title\n",
        "    article_description = entry.description\n",
        "    if is_article_relevant(article_title, article_description, profile):\n",
        "        print(f\"DOPORUČENÝ ČLÁNEK: {entry.link}\")\n",
        "    else:\n",
        "        print(f\"nedoporučený článek: {article_title}\")"
      ],
      "metadata": {
        "id": "FbZkWHxaeoSJ"
      },
      "execution_count": null,
      "outputs": []
    }
  ]
}